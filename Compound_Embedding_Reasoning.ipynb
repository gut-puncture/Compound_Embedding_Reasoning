{
  "cells": [
    {
      "cell_type": "markdown",
      "metadata": {
        "id": "view-in-github",
        "colab_type": "text"
      },
      "source": [
        "<a href=\"https://colab.research.google.com/github/gut-puncture/Compound_Embedding_Reasoning/blob/main/Compound_Embedding_Reasoning.ipynb\" target=\"_parent\"><img src=\"https://colab.research.google.com/assets/colab-badge.svg\" alt=\"Open In Colab\"/></a>"
      ]
    },
    {
      "cell_type": "markdown",
      "metadata": {
        "id": "Y8s_rV8ElvbE"
      },
      "source": [
        "##Setup"
      ]
    },
    {
      "cell_type": "code",
      "execution_count": null,
      "metadata": {
        "colab": {
          "base_uri": "https://localhost:8080/"
        },
        "collapsed": true,
        "id": "t63tE2sUE0Rs",
        "outputId": "d2c99074-33cb-4adb-c83c-58478a315b39"
      },
      "outputs": [
        {
          "name": "stdout",
          "output_type": "stream",
          "text": [
            "Drive already mounted at /content/drive; to attempt to forcibly remount, call drive.mount(\"/content/drive\", force_remount=True).\n"
          ]
        }
      ],
      "source": [
        "from google.colab import drive\n",
        "drive.mount('/content/drive') # connecting google drive to this notebook\n",
        "\n",
        "!pip -q install --upgrade \"transformers==4.41.2\" \"accelerate>=0.29.0\" \\\n",
        "                \"sentencepiece\" \"datasets>=2.19.0\" \"pandas\" \"matplotlib\" \"huggingface_hub>=0.23.0\" \"fsspec>=2024.3.0\""
      ]
    },
    {
      "cell_type": "markdown",
      "metadata": {
        "id": "pwHgAhE_lyoR"
      },
      "source": [
        "##Inference"
      ]
    },
    {
      "cell_type": "code",
      "execution_count": null,
      "metadata": {
        "id": "5hXbNZitQgbd"
      },
      "outputs": [],
      "source": [
        "import torch, re, math, pandas as pd, matplotlib.pyplot as plt\n",
        "from transformers import AutoTokenizer, AutoModelForCausalLM\n",
        "from datasets import load_dataset\n",
        "import random, textwrap\n",
        "\n",
        "# ---------- paths ---------------------------------------------------------\n",
        "MODEL_DIR           = \"/content/drive/MyDrive/phi3_3.8B\"   # NEED THIS MODEL TO BE PRESENT IN GOOGLE DRIVE\n",
        "BASELINE_HF_MODEL   = \"microsoft/phi-3-mini-4k-instruct\"   # reference\n",
        "\n",
        "# ---------- thinking parameters ------------------------------------------\n",
        "ALPHA               = 0.25\n",
        "COMPOUND_P          = 0.8\n",
        "SAMPLE_P            = 0.80\n",
        "STOP_ENTROPY        = 0.1   # entropy threshold (nats) below which we count steps\n",
        "LENGTH_THRESHOLD    = 8      # consecutive low-entropy steps for Cold-Stop\n",
        "MAX_THINK_STEPS     = 200\n",
        "\n",
        "# ---------- token markers -------------------------------------------------\n",
        "REASON_START = \"### Reasoning:\\n\"\n",
        "REASON_END   = \"###\"\n",
        "ANS_START    = \"### Answer:\\n\"\n",
        "\n",
        "DEVICE  = \"cuda\" if torch.cuda.is_available() else \"cpu\"\n",
        "DTYPE   = torch.float16 if DEVICE == \"cuda\" else torch.float32\n",
        "\n",
        "# Note: tokenizer will be loaded later in cell 9\n",
        "# We'll add the END_SEQ_CANDIDATES after tokenizer is available"
      ]
    },
    {
      "cell_type": "markdown",
      "metadata": {
        "id": "wRA7I8k_6WUB"
      },
      "source": [
        "#Helper Functions - Phase 1"
      ]
    },
    {
      "cell_type": "code",
      "execution_count": null,
      "metadata": {
        "id": "Mw6tF_hh6VAB"
      },
      "outputs": [],
      "source": [
        "from collections import deque\n",
        "\n",
        "def create_compound_vector(model_outputs, embeddings, dtype, p=COMPOUND_P):\n",
        "    logits = model_outputs.logits[:, -1, :]\n",
        "    probs  = torch.softmax(logits, dim=-1)\n",
        "    sorted_probs, sorted_idx = torch.sort(probs, descending=True)\n",
        "    cum    = torch.cumsum(sorted_probs, dim=-1)\n",
        "    mask   = cum <= p #all elements with cumulative prob less than p are True and all others False in mask\n",
        "    mask[..., 0] = True #first element is hard coded to True so we ALWAYS choose at least one element\n",
        "    sel_idx, sel_prob = sorted_idx[mask], sorted_probs[mask] #selecting all the token ids and their probs for which cumulative prob is less than p\n",
        "\n",
        "    # FIXED: Normalize the probabilities so they sum to 1\n",
        "    weights = sel_prob / sel_prob.sum()\n",
        "    vec = (embeddings(sel_idx) * weights.unsqueeze(-1)).sum(0, keepdim=True)\n",
        "    return vec.to(dtype).unsqueeze(0)\n",
        "\n",
        "def sample_token_normally(model_outputs, p=SAMPLE_P): #essentially the same function as above but gives just the sampled token id\n",
        "    logits = model_outputs.logits[:, -1, :]\n",
        "    probs  = torch.softmax(logits, dim=-1)\n",
        "    sorted_probs, sorted_idx = torch.sort(probs, descending=True)\n",
        "    mask   = torch.cumsum(sorted_probs, dim=-1) <= p\n",
        "    mask[..., 0] = True\n",
        "\n",
        "    # FIXED: Normalize probabilities before sampling\n",
        "    selected_probs = sorted_probs[mask]\n",
        "    normalized_probs = selected_probs / selected_probs.sum()\n",
        "    choice = torch.multinomial(normalized_probs, 1)\n",
        "    return sorted_idx[mask][choice]\n",
        "\n",
        "def create_thinking_vector(comp_vec, samp_tok, embeddings, dtype, alpha=ALPHA):\n",
        "    samp_emb = embeddings(samp_tok).unsqueeze(0).to(dtype)\n",
        "    return (1-alpha)*samp_emb + alpha*comp_vec.to(dtype) #creating a weigthed sum of the sampled token vector and the compound vector\n",
        "\n",
        "class ThinkGenerator: #Completely AI written\n",
        "    \"\"\"\n",
        "    Callable: prompt -> (answer_text, steps, entropy_list, stopping_reason)\n",
        "    \"\"\"\n",
        "    def __init__(self, model_path):\n",
        "        self.tokenizer = AutoTokenizer.from_pretrained(model_path, trust_remote_code=True)\n",
        "        self.model     = AutoModelForCausalLM.from_pretrained(\n",
        "                            model_path, torch_dtype=DTYPE, device_map=\"auto\")\n",
        "        self.embed     = self.model.model.embed_tokens\n",
        "        self.dtype     = next(self.model.parameters()).dtype\n",
        "        self.device    = next(self.model.parameters()).device\n",
        "\n",
        "    @torch.inference_mode()\n",
        "    def __call__(self, full_prompt:str):\n",
        "        ids   = self.tokenizer(full_prompt, return_tensors=\"pt\").input_ids.to(self.device) #converts string to tokens\n",
        "        embeds = self.embed(ids).to(self.dtype) #embeddings of the token ids\n",
        "        ent_hist = []\n",
        "        # low_entropy_steps = 0  # Counter for consecutive low-entropy steps   # ← DISABLED\n",
        "\n",
        "        # Initialize rolling buffer for end token detection\n",
        "        end_buf = deque(maxlen=MAX_END_SEQ_LEN)\n",
        "        reason_end_already_added = False  # FIXED: Track if we already added the end token\n",
        "        stopping_reason = \"max_steps\"  # Default stopping reason\n",
        "\n",
        "        # Reasoning loop for model\n",
        "        # STOPPING CONDITIONS:\n",
        "        # 1. Reasoning end token \"###\" is sampled\n",
        "        # 2. Maximum reasoning steps (MAX_THINK_STEPS) reached\n",
        "        for step in range(MAX_THINK_STEPS):\n",
        "            # FIXED: Add proper attention mask for inputs_embeds\n",
        "            attention_mask = torch.ones(embeds.size()[:2], device=embeds.device)\n",
        "            outs   = self.model(inputs_embeds=embeds, attention_mask=attention_mask) #vector embeddings injected in model rather than token ids\n",
        "            logits = outs.logits[:, -1, :]\n",
        "            p      = torch.softmax(logits, dim=-1)\n",
        "\n",
        "            # Calculate entropy (still logged for analysis)\n",
        "            ent_value = -(p * p.log()).sum().item()\n",
        "            ent_hist.append(ent_value)\n",
        "\n",
        "            # --- Cold-Stop disabled -------------------------------------------------\n",
        "            # if ent_value < STOP_ENTROPY:\n",
        "            #     low_entropy_steps += 1\n",
        "            # else:\n",
        "            #     low_entropy_steps = 0\n",
        "            #\n",
        "            # if low_entropy_steps >= LENGTH_THRESHOLD:\n",
        "            #     # Force end-token when Cold-Stop triggers\n",
        "            #     reason_end_tok = torch.tensor([[reason_end_token_id]], device=self.device)\n",
        "            #     plain_emb = self.embed(reason_end_tok).to(self.dtype)\n",
        "            #     embeds = torch.cat([embeds, plain_emb], 1)\n",
        "            #     ids = torch.cat([ids, reason_end_tok], 1)\n",
        "            #     reason_end_already_added = True\n",
        "            #     stopping_reason = \"cold_stop\"\n",
        "            #     break\n",
        "            # -----------------------------------------------------------------------\n",
        "\n",
        "            comp = create_compound_vector(outs, self.embed, self.dtype)\n",
        "            tok  = sample_token_normally(outs)\n",
        "\n",
        "            # Add token to buffer for end sequence detection\n",
        "            end_buf.append(tok.item())\n",
        "\n",
        "            # Check if we've matched any end sequence\n",
        "            break_outer = False\n",
        "            for seq in END_SEQ_CANDIDATES:\n",
        "                if len(end_buf) >= len(seq) and list(end_buf)[-len(seq):] == seq:\n",
        "                    stopping_reason = \"sampled_end_token\"\n",
        "                    reason_end_already_added = True\n",
        "                    break_outer = True\n",
        "                    break\n",
        "\n",
        "            vec  = create_thinking_vector(comp, tok, self.embed, self.dtype)\n",
        "            embeds = torch.cat([embeds, vec], 1) #adding the compound vector to the previous token vectors\n",
        "            ids    = torch.cat([ids, tok.unsqueeze(0)], 1)\n",
        "\n",
        "            if break_outer:\n",
        "                break\n",
        "\n",
        "        # Ensure reasoning end token is always added if we exit due to max steps\n",
        "        if not reason_end_already_added:\n",
        "            # Use the first candidate sequence (should be the simplest \"###\")\n",
        "            reason_end_tokens = torch.tensor([END_SEQ_CANDIDATES[0]], device=self.device)\n",
        "            reason_end_embeds = self.embed(reason_end_tokens).to(self.dtype)\n",
        "            embeds = torch.cat([embeds, reason_end_embeds], 1)\n",
        "            ids = torch.cat([ids, reason_end_tokens], 1)\n",
        "            reason_end_already_added = True\n",
        "            stopping_reason = \"max_steps\"\n",
        "\n",
        "        # Conditional delimiter to avoid duplicate \"###\"\n",
        "        if reason_end_already_added:\n",
        "            # Only add the answer start part since \"###\" is already there\n",
        "            delim_text = f\"\\n{ANS_START}\"\n",
        "        else:\n",
        "            # Add both end and answer start\n",
        "            delim_text = f\"{REASON_END}\\n{ANS_START}\"\n",
        "\n",
        "        delim = self.tokenizer(delim_text, add_special_tokens=False, return_tensors=\"pt\").input_ids.to(self.device)\n",
        "        delim_embeds = self.embed(delim).to(self.dtype)\n",
        "\n",
        "        # Concatenate delimiter embeddings and IDs to maintain compound context\n",
        "        embeds = torch.cat([embeds, delim_embeds], 1)\n",
        "        ids = torch.cat([ids, delim], 1)\n",
        "\n",
        "        # Use both input_ids and inputs_embeds to preserve full context while using compound embeddings\n",
        "        attention_mask = torch.ones_like(ids)\n",
        "        gen = self.model.generate(\n",
        "            input_ids=ids,\n",
        "            inputs_embeds=embeds,\n",
        "            attention_mask=attention_mask,\n",
        "            max_new_tokens=50,\n",
        "            do_sample=False,\n",
        "            pad_token_id=self.tokenizer.eos_token_id\n",
        "        )\n",
        "        text = self.tokenizer.decode(gen[0])\n",
        "        return text, len(ent_hist), ent_hist, stopping_reason\n"
      ]
    },
    {
      "cell_type": "markdown",
      "metadata": {
        "id": "rbjVCOqUf1OE"
      },
      "source": [
        "#Main Loop"
      ]
    },
    {
      "cell_type": "code",
      "execution_count": null,
      "metadata": {
        "id": "nY9geUWH6d44"
      },
      "outputs": [],
      "source": [
        "# Add 8 few-shot examples so we can compare performace with 8 shot eval\n",
        "FEW_SHOT_BLOCK = \"\"\"\n",
        "Example Questions and Answers:\n",
        "Question: If you roll 2 standard six-sided dice, what is the probability that the sum is 5?\n",
        "### Reasoning:\n",
        "The pairs that sum to 5 are (1,4), (2,3), (3,2), (4,1).\\\n",
        "There are 4 favourable outcomes out of 36 total. Probability = 4/36 = 1/9.\n",
        "###\n",
        "### Answer:\n",
        "1/9\n",
        "\n",
        "Question: A rectangle has length 8 cm and width 5 cm. What is its area in square centimetres?\n",
        "### Reasoning:\n",
        "Area = length × width = 8 × 5 = 40 cm².\n",
        "###\n",
        "### Answer:\n",
        "40\n",
        "\n",
        "Question: Sarah has 3 red, 4 blue, and 5 green marbles. If she randomly chooses one, what is the probability it is blue?\n",
        "### Reasoning:\n",
        "Total marbles = 3+4+5 = 12. Blue count = 4. Probability = 4/12 = 1/3.\n",
        "###\n",
        "### Answer:\n",
        "1/3\n",
        "\n",
        "Question: What is 15 % of 80?\n",
        "### Reasoning:\n",
        "0.15 × 80 = 12.\n",
        "###\n",
        "### Answer:\n",
        "12\n",
        "\n",
        "Question: A train travels 180 km in 3 hours. What is its average speed in km per hour?\n",
        "### Reasoning:\n",
        "Speed = distance / time = 180 / 3 = 60 km/h.\n",
        "###\n",
        "### Answer:\n",
        "60\n",
        "\n",
        "Question: The number x satisfies 3x + 7 = 22. What is x?\n",
        "### Reasoning:\n",
        "3x = 22 − 7 = 15 ⇒ x = 15/3 = 5.\n",
        "###\n",
        "### Answer:\n",
        "5\n",
        "\n",
        "Question: A square has perimeter 24 cm. What is the length of one side in centimetres?\n",
        "### Reasoning:\n",
        "Perimeter = 4s ⇒ s = 24/4 = 6 cm.\n",
        "###\n",
        "### Answer:\n",
        "6\n",
        "\n",
        "Question: Mike scores 70, 80, 90 on three tests. What average must he score on a 4th test to have a mean of 85?\n",
        "### Reasoning:\n",
        "Desired total = 85×4 = 340. Current total = 70+80+90 = 240. Needed = 340−240 = 100.\n",
        "###\n",
        "### Answer:\n",
        "100\n",
        "\"\"\".strip()\n",
        "\n",
        "SYSTEM_PROMPT = \"\"\"You are an AI model which is being evaluated to see how well you're able to solve few reasoning questions which all have integer answers.\n",
        "From the next line, I have given you a few examples of the kind of questions you can expect, how you must reason to solve them and how to answer.\n",
        "Then you will see the words \"Test Question\" which will be the question you need to answer in the test.\n",
        "Think between the reasoning tokens and then write the answer. You must always end the reasoning with the token \"###\" but only and only when you're ready to provide the answer.\n",
        "Once you're done with reasoning, you can provide the answer.\n",
        "The first integer after \"### Answer:\\n\" in your generation will be what I will take as your answer and if it doesn't match with the answer given, I will give you 0 reward.\n",
        "Even more important is to simply answer just the test question and stop generating tokens after the integer answer. \"\"\"\n"
      ]
    },
    {
      "cell_type": "code",
      "execution_count": null,
      "metadata": {
        "colab": {
          "base_uri": "https://localhost:8080/"
        },
        "id": "0QtRKv8O-JGL",
        "outputId": "7436d163-e408-4d9e-d884-2bdc4da475ff"
      },
      "outputs": [
        {
          "name": "stderr",
          "output_type": "stream",
          "text": [
            "/usr/local/lib/python3.11/dist-packages/huggingface_hub/utils/_auth.py:94: UserWarning: \n",
            "The secret `HF_TOKEN` does not exist in your Colab secrets.\n",
            "To authenticate with the Hugging Face Hub, create a token in your settings tab (https://huggingface.co/settings/tokens), set it as secret in your Google Colab and restart your session.\n",
            "You will be able to reuse this secret in all of your notebooks.\n",
            "Please note that authentication is recommended but still optional to access public models or datasets.\n",
            "  warnings.warn(\n"
          ]
        }
      ],
      "source": [
        "import random, textwrap\n",
        "\n",
        "gsm_test  = load_dataset(\"gsm8k\", \"main\", split=\"test\").shuffle(seed=21).select(range(25))"
      ]
    },
    {
      "cell_type": "code",
      "execution_count": null,
      "metadata": {
        "colab": {
          "base_uri": "https://localhost:8080/",
          "height": 117,
          "referenced_widgets": [
            "ef76fa45ffc14e4faa3b0f859c411c70",
            "7e8eef8ec479465991d23d52a8d8e096",
            "9e57e969811e4657a0345f9e88011d6b",
            "c037d4869a2d4d61bfe10c1e1287290f",
            "c6256089aaad471290c1822f963a1d19",
            "a74410ef8b5646f9a78d2fec5aebd67a",
            "74249229106d4000b892248499778635",
            "ff6f559346704e81bacb163aedbae15e",
            "177d2a74408b439e87189275be492b89",
            "3728fa2f53b54cefb89ec90cf17e9e42",
            "0281bcbd48db41389320ad61e3a35638",
            "5257c3774ff74ef2b1cfe8b2b5ca7db9",
            "93a2f68635b94c30817b5952911c1d5a",
            "85a07f5a623d4f778f70d55e13b1f169",
            "065d9ab425b74f1f81172b04d9a00222",
            "502cb2ebfa0e4346b9600b77c5ac15d3",
            "79618bcaf1e44155bafd7e1026a94ad6",
            "2f9bdcda46744624b9ee959622480bef",
            "f8ac3badae8a4795a617f56d4b99ce58",
            "d695db113fc146b6b35ce99ccc05624a",
            "8dfa9e9f3f3342a7a8483405191edb9c",
            "4b20733318374082b4c2f719ab8887f5"
          ]
        },
        "collapsed": true,
        "id": "VAECdrmN3Yk0",
        "outputId": "4db1b3af-c1f1-4176-dc08-0fb04b1bd41e"
      },
      "outputs": [
        {
          "name": "stderr",
          "output_type": "stream",
          "text": [
            "Special tokens have been added in the vocabulary, make sure the associated word embeddings are fine-tuned or trained.\n"
          ]
        },
        {
          "data": {
            "application/vnd.jupyter.widget-view+json": {
              "model_id": "ef76fa45ffc14e4faa3b0f859c411c70",
              "version_major": 2,
              "version_minor": 0
            },
            "text/plain": [
              "Loading checkpoint shards:   0%|          | 0/2 [00:00<?, ?it/s]"
            ]
          },
          "metadata": {},
          "output_type": "display_data"
        },
        {
          "name": "stderr",
          "output_type": "stream",
          "text": [
            "Special tokens have been added in the vocabulary, make sure the associated word embeddings are fine-tuned or trained.\n"
          ]
        },
        {
          "data": {
            "application/vnd.jupyter.widget-view+json": {
              "model_id": "5257c3774ff74ef2b1cfe8b2b5ca7db9",
              "version_major": 2,
              "version_minor": 0
            },
            "text/plain": [
              "Loading checkpoint shards:   0%|          | 0/2 [00:00<?, ?it/s]"
            ]
          },
          "metadata": {},
          "output_type": "display_data"
        }
      ],
      "source": [
        "tok_base  = AutoTokenizer.from_pretrained(BASELINE_HF_MODEL, trust_remote_code=True)\n",
        "mod_base  = AutoModelForCausalLM.from_pretrained(BASELINE_HF_MODEL,\n",
        "                                                 torch_dtype=DTYPE, device_map=\"auto\")\n",
        "\n",
        "# --- reasoning-end detection ------------------------------------------\n",
        "REASON_END_RAW = \"###\"\n",
        "END_SEQ_CANDIDATES = [\n",
        "    tok_base.encode(\"###\", add_special_tokens=False),\n",
        "    tok_base.encode(\" ###\", add_special_tokens=False),\n",
        "    tok_base.encode(\"\\n###\", add_special_tokens=False),\n",
        "    tok_base.encode(\"\\n ###\", add_special_tokens=False),\n",
        "]\n",
        "MAX_END_SEQ_LEN = max(len(seq) for seq in END_SEQ_CANDIDATES)\n",
        "\n",
        "think_gen = ThinkGenerator(MODEL_DIR)\n",
        "\n",
        "def build_prompt(question: str) -> str:\n",
        "    return f\"{SYSTEM_PROMPT}\\n{FEW_SHOT_BLOCK}\\n\\n Test Question: {question}\\n{REASON_START}\"\n",
        "\n",
        "def gold_int(ans: str) -> str:\n",
        "    ints = re.findall(r\"-?\\d+\", ans)\n",
        "    return ints[-1] if ints else \"\" #results in the final integer in the model's generation\n",
        "\n",
        "@torch.inference_mode()\n",
        "def baseline_answer(question: str) -> str:\n",
        "    prompt = build_prompt(question)\n",
        "    ids    = tok_base(prompt, return_tensors=\"pt\").input_ids.to(DEVICE)\n",
        "    gen    = mod_base.generate( #answer generate by vanilla model for comparison. we defined the vanilla model's name and simply use that.\n",
        "                ids,\n",
        "                max_new_tokens=256,\n",
        "                do_sample=False,\n",
        "                attention_mask=torch.ones_like(ids),\n",
        "                pad_token_id=tok_base.eos_token_id\n",
        "            )\n",
        "    text = tok_base.decode(gen[0])\n",
        "    return text\n"
      ]
    },
    {
      "cell_type": "markdown",
      "metadata": {
        "id": "qGFpk_z0_OVK"
      },
      "source": [
        "# Eval"
      ]
    },
    {
      "cell_type": "code",
      "execution_count": null,
      "metadata": {
        "colab": {
          "base_uri": "https://localhost:8080/"
        },
        "collapsed": true,
        "id": "SP0Fumk4g2OP",
        "outputId": "228e30b5-9116-4654-f7e5-963572fa7fae"
      },
      "outputs": [
        {
          "name": "stdout",
          "output_type": "stream",
          "text": [
            "Running full evaluation on 500 questions (Phase 1: Raw outputs only)...\n",
            "\n",
            "Processing question 0/500...\n",
            "\n",
            "Phase 1 evaluation complete! Raw outputs saved.\n",
            "Next: Switch to CPU runtime and run Phase 2 for DeepSeek adjudication.\n"
          ]
        }
      ],
      "source": [
        "# Full evaluation on 500 questions - Phase 1: Generate raw outputs only\n",
        "print(\"Running full evaluation on 500 questions (Phase 1: Raw outputs only)...\\n\")\n",
        "\n",
        "rows = []\n",
        "for i, ex in enumerate(gsm_test):\n",
        "    if i % 50 == 0:\n",
        "        print(f\"Processing question {i}/500...\")\n",
        "\n",
        "    q_raw, gold_raw = ex[\"question\"], ex[\"answer\"]\n",
        "    gold_num = gold_int(gold_raw)\n",
        "\n",
        "    # Get baseline answer (raw text only)\n",
        "    base_text = baseline_answer(q_raw)\n",
        "\n",
        "    # Get thinking model answer (raw text only)\n",
        "    think_text, steps, ent, stop_reason = think_gen(build_prompt(q_raw))\n",
        "\n",
        "    rows.append({\n",
        "        \"id\": i,\n",
        "        \"question\": q_raw,\n",
        "        \"gold\": gold_num,\n",
        "        \"steps\": steps,\n",
        "        \"entropy_avg\": sum(ent)/len(ent) if ent else 0,\n",
        "        \"stopping_reason\": stop_reason,\n",
        "        \"baseline_raw\": base_text.split(\"Test Question:\", 1)[-1].replace(\"\\n\", \" \\\\n \"),\n",
        "        \"think_raw\": think_text.split(\"Test Question:\", 1)[-1].replace(\"\\n\", \" \\\\n \")\n",
        "    })\n",
        "\n",
        "df = pd.DataFrame(rows)\n",
        "df.to_csv(\"/content/drive/MyDrive/gsm8k_think_metrics_phase1.csv\", index=False)\n",
        "print(\"\\nPhase 1 evaluation complete! Raw outputs saved.\")\n",
        "print(\"Next: Switch to CPU runtime and run Phase 2 for DeepSeek adjudication.\")"
      ]
    },
    {
      "cell_type": "code",
      "execution_count": null,
      "metadata": {
        "colab": {
          "base_uri": "https://localhost:8080/",
          "height": 1000
        },
        "id": "OCMFK4Zpdiy2",
        "outputId": "c8ba221b-b702-4a55-8565-925dc9456b31"
      },
      "outputs": [
        {
          "name": "stdout",
          "output_type": "stream",
          "text": [
            "\n",
            "==================================================\n",
            "Phase 1 Complete: Generated raw outputs for 500 GSM-8K questions\n",
            "Raw outputs saved to: /content/drive/MyDrive/gsm8k_think_metrics_phase1.csv\n",
            "==================================================\n",
            "\n"
          ]
        },
        {
          "data": {
            "image/png": "[encoded data removed]",
            "text/plain": [
              "<Figure size 1000x600 with 1 Axes>"
            ]
          },
          "metadata": {},
          "output_type": "display_data"
        },
        {
          "data": {
            "image/png": "[encoded data removed]",
            "text/plain": [
              "<Figure size 800x600 with 1 Axes>"
            ]
          },
          "metadata": {},
          "output_type": "display_data"
        },
        {
          "name": "stdout",
          "output_type": "stream",
          "text": [
            "\n",
            "Next step: Switch runtime to CPU and run Phase 2 for DeepSeek adjudication.\n"
          ]
        }
      ],
      "source": [
        "# Basic Phase 1 Statistics (no accuracy analysis yet)\n",
        "print(f\"\\n\" + \"=\"*50)\n",
        "print(f\"Phase 1 Complete: Generated raw outputs for 500 GSM-8K questions\")\n",
        "print(f\"Raw outputs saved to: /content/drive/MyDrive/gsm8k_think_metrics_phase1.csv\")\n",
        "print(\"=\"*50 + \"\\n\")\n",
        "\n",
        "# Thinking steps distribution\n",
        "plt.figure(figsize=(10, 6))\n",
        "plt.hist(df[\"steps\"], bins=range(1, MAX_THINK_STEPS+2), alpha=0.7, edgecolor='black')\n",
        "plt.title(\"Distribution of Thinking Steps\", fontsize=14)\n",
        "plt.xlabel(\"Number of Thinking Steps\", fontsize=12)\n",
        "plt.ylabel(\"Count\", fontsize=12)\n",
        "plt.axvline(df[\"steps\"].mean(), color='red', linestyle='dashed', linewidth=2,\n",
        "            label=f'Mean: {df[\"steps\"].mean():.1f}')\n",
        "plt.legend()\n",
        "plt.show()\n",
        "\n",
        "# Stopping reasons distribution\n",
        "stop_counts = df[\"stopping_reason\"].value_counts()\n",
        "plt.figure(figsize=(8, 6))\n",
        "bars = plt.bar(stop_counts.index, stop_counts.values,\n",
        "               color=['#1f77b4', '#ff7f0e', '#2ca02c'])\n",
        "plt.title(\"Distribution of Stopping Reasons\", fontsize=14)\n",
        "plt.ylabel(\"Count\", fontsize=12)\n",
        "plt.xlabel(\"Stopping Reason\", fontsize=12)\n",
        "for bar in bars:\n",
        "    height = bar.get_height()\n",
        "    plt.text(bar.get_x() + bar.get_width()/2., height,\n",
        "             f'{int(height)}', ha='center', va='bottom', fontsize=12)\n",
        "plt.show()\n",
        "\n",
        "print(\"\\nNext step: Switch runtime to CPU and run Phase 2 for DeepSeek adjudication.\")"
      ]
    },
    {
      "cell_type": "code",
      "execution_count": null,
      "metadata": {
        "colab": {
          "base_uri": "https://localhost:8080/"
        },
        "id": "a_UvwK9ndl7m",
        "outputId": "b9ac1de3-2f28-4c6c-f0e2-204edf52b9b5"
      },
      "outputs": [
        {
          "name": "stdout",
          "output_type": "stream",
          "text": [
            "Phase 1 data contains 75 rows with columns: ['id', 'question', 'gold', 'steps', 'entropy_avg', 'stopping_reason', 'baseline_raw', 'think_raw']\n",
            "File saved to: /content/drive/MyDrive/gsm8k_think_metrics_phase1.csv\n"
          ]
        }
      ],
      "source": [
        "# Phase 1 data already saved above - this cell can be deleted or used for verification\n",
        "print(f\"Phase 1 data contains {len(df)} rows with columns: {list(df.columns)}\")\n",
        "print(f\"File saved to: /content/drive/MyDrive/gsm8k_think_metrics_phase1.csv\")"
      ]
    },
    {
      "cell_type": "markdown",
      "metadata": {
        "id": "dBxzdWhUBWRB"
      },
      "source": [
        "# Phase 2: DeepSeek Adjudication"
      ]
    },
    {
      "cell_type": "code",
      "execution_count": null,
      "metadata": {
        "id": "1N7bBd8a2K9I"
      },
      "outputs": [],
      "source": [
        "#**Instructions:**\n",
        "#1. Switch runtime to CPU\n",
        "#2. Run the cells below to send raw outputs to DeepSeek-Reasoner for answer extraction\n",
        "#3. This will take approximately 35 minutes (1000 API calls at 30 req/min)\n"
      ]
    },
    {
      "cell_type": "code",
      "execution_count": null,
      "metadata": {
        "colab": {
          "base_uri": "https://localhost:8080/"
        },
        "id": "lrcmkQz72K9n",
        "outputId": "21095027-034c-4453-ce6f-a48b48f8210c"
      },
      "outputs": [
        {
          "name": "stdout",
          "output_type": "stream",
          "text": [
            "✓ DeepSeek API key found\n"
          ]
        }
      ],
      "source": [
        "# Install required packages and check environment\n",
        "!pip -q install --upgrade openai backoff\n",
        "\n",
        "import os\n",
        "import json\n",
        "import time\n",
        "import re\n",
        "import pandas as pd\n",
        "import matplotlib.pyplot as plt\n",
        "from openai import OpenAI\n",
        "import backoff\n",
        "from google.colab import userdata # Import userdata\n",
        "\n",
        "# Verify API key is set\n",
        "api_key = userdata.get('DEEPSEEK_API_KEY')\n",
        "os.environ[\"DEEPSEEK_API_KEY\"] = api_key\n",
        "assert \"DEEPSEEK_API_KEY\" in os.environ, \"Please set DEEPSEEK_API_KEY environment variable\"\n",
        "print(\"✓ DeepSeek API key found\")"
      ]
    },
    {
      "cell_type": "code",
      "execution_count": null,
      "metadata": {
        "colab": {
          "base_uri": "https://localhost:8080/"
        },
        "id": "2DNW-QrmAdLo",
        "outputId": "5370e218-bce9-4eb8-e7bd-423719153a66"
      },
      "outputs": [
        {
          "name": "stdout",
          "output_type": "stream",
          "text": [
            "Drive already mounted at /content/drive; to attempt to forcibly remount, call drive.mount(\"/content/drive\", force_remount=True).\n"
          ]
        }
      ],
      "source": [
        "from google.colab import drive\n",
        "drive.mount('/content/drive') # connecting google drive to this notebook"
      ]
    },
    {
      "cell_type": "code",
      "execution_count": null,
      "metadata": {
        "colab": {
          "base_uri": "https://localhost:8080/"
        },
        "id": "t4-5gR8T2K9n",
        "outputId": "40aa5a60-3f40-49af-d21e-e1ef52681f26"
      },
      "outputs": [
        {
          "name": "stdout",
          "output_type": "stream",
          "text": [
            "✓ DeepSeek helper functions defined\n"
          ]
        }
      ],
      "source": [
        "# DeepSeek configuration and helper functions\n",
        "DEEPSEEK_BASE_URL = \"https://api.deepseek.com/v1\"\n",
        "DEEPSEEK_MODEL = \"deepseek-reasoner\"\n",
        "DEEPSEEK_SYSTEM_PROMPT = \"\"\"\n",
        "You are DeepSeek-Reasoner and you're helping me check answers from a different AI model. The other model was given a math word-problem QUESTION and\n",
        "it generate it's answer as MODEL_OUTPUT. Read the reasoning of the model and it's entire output.\n",
        "Sometimes you may find that the model gives an answer and then makes up another question and it's reasoning and answer and so on.\n",
        "Sometimes the model's reasoning ends abruptly and then it outputs the answer.\n",
        "You must be smart and identify the integer answer that the model asserted ONLY for the question we provide to you.\n",
        "Ignore all of the text the model may generate which is unrelated to the question.\n",
        "\n",
        "Respond STRICTLY in valid JSON:\n",
        "{ \"answer\": <integer> }\n",
        "\n",
        "Do not wrap the JSON in markdown, do not add keys, and do not explain.\n",
        "\"\"\"\n",
        "RESPONSE_FORMAT = {\"type\": \"json_object\"}\n",
        "REQUEST_INTERVAL_SEC = 2.1  # ~30 requests per minute\n",
        "MAX_RETRY_DELAY_SEC = 60\n",
        "\n",
        "# Initialize OpenAI client for DeepSeek\n",
        "client = OpenAI(\n",
        "    api_key=os.environ[\"DEEPSEEK_API_KEY\"],\n",
        "    base_url=DEEPSEEK_BASE_URL\n",
        ")\n",
        "\n",
        "@backoff.on_exception(\n",
        "    backoff.expo,\n",
        "    (Exception,),  # Catch all exceptions for robustness\n",
        "    max_time=None,  # keep trying indefinitely\n",
        "    factor=2,\n",
        "    max_value=MAX_RETRY_DELAY_SEC\n",
        ")\n",
        "def deepseek_extract_answer(question: str, model_output: str) -> tuple[str, str]:\n",
        "    \"\"\"\n",
        "    Extract integer answer from model output using DeepSeek-Reasoner.\n",
        "    Returns: (answer_integer, full_deepseek_response)\n",
        "    \"\"\"\n",
        "    user_msg = f\"QUESTION:\\n{question}\\n\\nMODEL_OUTPUT:\\n{model_output}\"\n",
        "\n",
        "    try:\n",
        "        resp = client.chat.completions.create(\n",
        "            model=DEEPSEEK_MODEL,\n",
        "            messages=[\n",
        "                {\"role\": \"system\", \"content\": DEEPSEEK_SYSTEM_PROMPT},\n",
        "                {\"role\": \"user\", \"content\": user_msg}\n",
        "            ],\n",
        "            response_format=RESPONSE_FORMAT,\n",
        "            max_tokens=2000\n",
        "        )\n",
        "\n",
        "        full_text = resp.choices[0].message.content\n",
        "\n",
        "        # Best-effort JSON parse (in case CoT leaks); keep whole text\n",
        "        try:\n",
        "            # Find JSON in response\n",
        "            first_brace = full_text.find('{')\n",
        "            last_brace = full_text.rfind('}')\n",
        "            if first_brace != -1 and last_brace != -1:\n",
        "                json_str = full_text[first_brace:last_brace+1]\n",
        "                js = json.loads(json_str)\n",
        "                ans = str(js[\"answer\"])\n",
        "            else:\n",
        "                raise ValueError(\"No JSON found\")\n",
        "        except Exception as e:\n",
        "            print(f\"JSON parsing failed: {e}\")\n",
        "            # Fall back to last integer in text\n",
        "            ints = re.findall(r\"-?\\d+\", full_text)\n",
        "            ans = ints[-1] if ints else \"\"\n",
        "\n",
        "        return ans, full_text\n",
        "\n",
        "    except Exception as e:\n",
        "        print(f\"API call failed: {e}\")\n",
        "        raise  # Let backoff handle retry\n",
        "\n",
        "print(\"✓ DeepSeek helper functions defined\")\n"
      ]
    },
    {
      "cell_type": "code",
      "execution_count": null,
      "metadata": {
        "colab": {
          "base_uri": "https://localhost:8080/"
        },
        "id": "FhjjzBS12K9o",
        "outputId": "2a2ed3f4-7c95-4fdc-a0b2-13f098c79dfc"
      },
      "outputs": [
        {
          "name": "stdout",
          "output_type": "stream",
          "text": [
            "Testing DeepSeek API with a sample question...\n",
            "Loaded 75 questions from Phase 1\n",
            "\n",
            "Test Question: A factory used to make tractors, but now makes silos. When they made tractors, they sold 10 tractors...\n",
            "Gold Answer: 10\n",
            "✓ DeepSeek baseline extraction: 10\n",
            "  Full response: {\"answer\": 10}...\n",
            "\n",
            "DeepSeek API test successful! Ready for full processing.\n"
          ]
        }
      ],
      "source": [
        "# Test DeepSeek API with one sample\n",
        "print(\"Testing DeepSeek API with a sample question...\")\n",
        "\n",
        "# Load the Phase 1 data\n",
        "df_phase1 = pd.read_csv(\"/content/drive/MyDrive/gsm8k_think_metrics_phase1.csv\")\n",
        "print(f\"Loaded {len(df_phase1)} questions from Phase 1\")\n",
        "\n",
        "# Test with first question\n",
        "test_question = df_phase1.iloc[0][\"question\"]\n",
        "test_baseline_raw = df_phase1.iloc[0][\"baseline_raw\"].replace(\" \\\\n \", \"\\n\")\n",
        "test_gold = df_phase1.iloc[0][\"gold\"]\n",
        "\n",
        "print(f\"\\nTest Question: {test_question[:100]}...\")\n",
        "print(f\"Gold Answer: {test_gold}\")\n",
        "\n",
        "try:\n",
        "    # Test baseline\n",
        "    ans_baseline, raw_baseline = deepseek_extract_answer(test_question, test_baseline_raw)\n",
        "    print(f\"✓ DeepSeek baseline extraction: {ans_baseline}\")\n",
        "    print(f\"  Full response: {raw_baseline[:200]}...\")\n",
        "\n",
        "    print(\"\\nDeepSeek API test successful! Ready for full processing.\")\n",
        "\n",
        "except Exception as e:\n",
        "    print(f\"❌ DeepSeek API test failed: {e}\")\n",
        "    print(\"Please check your API key and try again.\")\n"
      ]
    },
    {
      "cell_type": "code",
      "execution_count": null,
      "metadata": {
        "colab": {
          "base_uri": "https://localhost:8080/",
          "height": 490
        },
        "id": "WZUrjeOH2K9o",
        "outputId": "4416bb09-6252-4a92-dfb1-d4171f152e72"
      },
      "outputs": [
        {
          "name": "stdout",
          "output_type": "stream",
          "text": [
            "Starting Phase 2: DeepSeek adjudication for all 500 questions...\n",
            "This will take approximately 5.2 minutes\n",
            "Processing with 30 requests per minute to avoid rate limits.\n",
            "\n",
            "Processing question 0/500... (elapsed: 0.0min, remaining: 5.2min)\n",
            "JSON parsing failed: No JSON found\n",
            "JSON parsing failed: No JSON found\n"
          ]
        },
        {
          "ename": "KeyboardInterrupt",
          "evalue": "",
          "output_type": "error",
          "traceback": [
            "\u001b[0;31m---------------------------------------------------------------------------\u001b[0m",
            "\u001b[0;31mKeyboardInterrupt\u001b[0m                         Traceback (most recent call last)",
            "\u001b[0;32m/tmp/ipython-input-12-2885837728.py\u001b[0m in \u001b[0;36m<cell line: 0>\u001b[0;34m()\u001b[0m\n\u001b[1;32m     23\u001b[0m     \u001b[0mbaseline_raw\u001b[0m \u001b[0;34m=\u001b[0m \u001b[0mrow\u001b[0m\u001b[0;34m[\u001b[0m\u001b[0;34m\"baseline_raw\"\u001b[0m\u001b[0;34m]\u001b[0m\u001b[0;34m.\u001b[0m\u001b[0mreplace\u001b[0m\u001b[0;34m(\u001b[0m\u001b[0;34m\" \\\\n \"\u001b[0m\u001b[0;34m,\u001b[0m \u001b[0;34m\"\\n\"\u001b[0m\u001b[0;34m)\u001b[0m  \u001b[0;31m# Convert back from CSV format\u001b[0m\u001b[0;34m\u001b[0m\u001b[0;34m\u001b[0m\u001b[0m\n\u001b[1;32m     24\u001b[0m     \u001b[0;32mtry\u001b[0m\u001b[0;34m:\u001b[0m\u001b[0;34m\u001b[0m\u001b[0;34m\u001b[0m\u001b[0m\n\u001b[0;32m---> 25\u001b[0;31m         \u001b[0mans_b\u001b[0m\u001b[0;34m,\u001b[0m \u001b[0mraw_b\u001b[0m \u001b[0;34m=\u001b[0m \u001b[0mdeepseek_extract_answer\u001b[0m\u001b[0;34m(\u001b[0m\u001b[0mquestion\u001b[0m\u001b[0;34m,\u001b[0m \u001b[0mbaseline_raw\u001b[0m\u001b[0;34m)\u001b[0m\u001b[0;34m\u001b[0m\u001b[0;34m\u001b[0m\u001b[0m\n\u001b[0m\u001b[1;32m     26\u001b[0m         \u001b[0mdf_phase1\u001b[0m\u001b[0;34m.\u001b[0m\u001b[0mat\u001b[0m\u001b[0;34m[\u001b[0m\u001b[0midx\u001b[0m\u001b[0;34m,\u001b[0m \u001b[0;34m\"baseline_int_ds\"\u001b[0m\u001b[0;34m]\u001b[0m \u001b[0;34m=\u001b[0m \u001b[0mans_b\u001b[0m\u001b[0;34m\u001b[0m\u001b[0;34m\u001b[0m\u001b[0m\n\u001b[1;32m     27\u001b[0m         \u001b[0mdf_phase1\u001b[0m\u001b[0;34m.\u001b[0m\u001b[0mat\u001b[0m\u001b[0;34m[\u001b[0m\u001b[0midx\u001b[0m\u001b[0;34m,\u001b[0m \u001b[0;34m\"baseline_ds_raw\"\u001b[0m\u001b[0;34m]\u001b[0m \u001b[0;34m=\u001b[0m \u001b[0mraw_b\u001b[0m\u001b[0;34m\u001b[0m\u001b[0;34m\u001b[0m\u001b[0m\n",
            "\u001b[0;32m/usr/local/lib/python3.11/dist-packages/backoff/_sync.py\u001b[0m in \u001b[0;36mretry\u001b[0;34m(*args, **kwargs)\u001b[0m\n\u001b[1;32m    103\u001b[0m \u001b[0;34m\u001b[0m\u001b[0m\n\u001b[1;32m    104\u001b[0m             \u001b[0;32mtry\u001b[0m\u001b[0;34m:\u001b[0m\u001b[0;34m\u001b[0m\u001b[0;34m\u001b[0m\u001b[0m\n\u001b[0;32m--> 105\u001b[0;31m                 \u001b[0mret\u001b[0m \u001b[0;34m=\u001b[0m \u001b[0mtarget\u001b[0m\u001b[0;34m(\u001b[0m\u001b[0;34m*\u001b[0m\u001b[0margs\u001b[0m\u001b[0;34m,\u001b[0m \u001b[0;34m**\u001b[0m\u001b[0mkwargs\u001b[0m\u001b[0;34m)\u001b[0m\u001b[0;34m\u001b[0m\u001b[0;34m\u001b[0m\u001b[0m\n\u001b[0m\u001b[1;32m    106\u001b[0m             \u001b[0;32mexcept\u001b[0m \u001b[0mexception\u001b[0m \u001b[0;32mas\u001b[0m \u001b[0me\u001b[0m\u001b[0;34m:\u001b[0m\u001b[0;34m\u001b[0m\u001b[0;34m\u001b[0m\u001b[0m\n\u001b[1;32m    107\u001b[0m                 \u001b[0mmax_tries_exceeded\u001b[0m \u001b[0;34m=\u001b[0m \u001b[0;34m(\u001b[0m\u001b[0mtries\u001b[0m \u001b[0;34m==\u001b[0m \u001b[0mmax_tries_value\u001b[0m\u001b[0;34m)\u001b[0m\u001b[0;34m\u001b[0m\u001b[0;34m\u001b[0m\u001b[0m\n",
            "\u001b[0;32m/tmp/ipython-input-10-1188432087.py\u001b[0m in \u001b[0;36mdeepseek_extract_answer\u001b[0;34m(question, model_output)\u001b[0m\n\u001b[1;32m     40\u001b[0m \u001b[0;34m\u001b[0m\u001b[0m\n\u001b[1;32m     41\u001b[0m     \u001b[0;32mtry\u001b[0m\u001b[0;34m:\u001b[0m\u001b[0;34m\u001b[0m\u001b[0;34m\u001b[0m\u001b[0m\n\u001b[0;32m---> 42\u001b[0;31m         resp = client.chat.completions.create(\n\u001b[0m\u001b[1;32m     43\u001b[0m             \u001b[0mmodel\u001b[0m\u001b[0;34m=\u001b[0m\u001b[0mDEEPSEEK_MODEL\u001b[0m\u001b[0;34m,\u001b[0m\u001b[0;34m\u001b[0m\u001b[0;34m\u001b[0m\u001b[0m\n\u001b[1;32m     44\u001b[0m             messages=[\n",
            "\u001b[0;32m/usr/local/lib/python3.11/dist-packages/openai/_utils/_utils.py\u001b[0m in \u001b[0;36mwrapper\u001b[0;34m(*args, **kwargs)\u001b[0m\n\u001b[1;32m    285\u001b[0m                         \u001b[0mmsg\u001b[0m \u001b[0;34m=\u001b[0m \u001b[0;34mf\"Missing required argument: {quote(missing[0])}\"\u001b[0m\u001b[0;34m\u001b[0m\u001b[0;34m\u001b[0m\u001b[0m\n\u001b[1;32m    286\u001b[0m                 \u001b[0;32mraise\u001b[0m \u001b[0mTypeError\u001b[0m\u001b[0;34m(\u001b[0m\u001b[0mmsg\u001b[0m\u001b[0;34m)\u001b[0m\u001b[0;34m\u001b[0m\u001b[0;34m\u001b[0m\u001b[0m\n\u001b[0;32m--> 287\u001b[0;31m             \u001b[0;32mreturn\u001b[0m \u001b[0mfunc\u001b[0m\u001b[0;34m(\u001b[0m\u001b[0;34m*\u001b[0m\u001b[0margs\u001b[0m\u001b[0;34m,\u001b[0m \u001b[0;34m**\u001b[0m\u001b[0mkwargs\u001b[0m\u001b[0;34m)\u001b[0m\u001b[0;34m\u001b[0m\u001b[0;34m\u001b[0m\u001b[0m\n\u001b[0m\u001b[1;32m    288\u001b[0m \u001b[0;34m\u001b[0m\u001b[0m\n\u001b[1;32m    289\u001b[0m         \u001b[0;32mreturn\u001b[0m \u001b[0mwrapper\u001b[0m  \u001b[0;31m# type: ignore\u001b[0m\u001b[0;34m\u001b[0m\u001b[0;34m\u001b[0m\u001b[0m\n",
            "\u001b[0;32m/usr/local/lib/python3.11/dist-packages/openai/resources/chat/completions/completions.py\u001b[0m in \u001b[0;36mcreate\u001b[0;34m(self, messages, model, audio, frequency_penalty, function_call, functions, logit_bias, logprobs, max_completion_tokens, max_tokens, metadata, modalities, n, parallel_tool_calls, prediction, presence_penalty, reasoning_effort, response_format, seed, service_tier, stop, store, stream, stream_options, temperature, tool_choice, tools, top_logprobs, top_p, user, web_search_options, extra_headers, extra_query, extra_body, timeout)\u001b[0m\n\u001b[1;32m   1085\u001b[0m     ) -> ChatCompletion | Stream[ChatCompletionChunk]:\n\u001b[1;32m   1086\u001b[0m         \u001b[0mvalidate_response_format\u001b[0m\u001b[0;34m(\u001b[0m\u001b[0mresponse_format\u001b[0m\u001b[0;34m)\u001b[0m\u001b[0;34m\u001b[0m\u001b[0;34m\u001b[0m\u001b[0m\n\u001b[0;32m-> 1087\u001b[0;31m         return self._post(\n\u001b[0m\u001b[1;32m   1088\u001b[0m             \u001b[0;34m\"/chat/completions\"\u001b[0m\u001b[0;34m,\u001b[0m\u001b[0;34m\u001b[0m\u001b[0;34m\u001b[0m\u001b[0m\n\u001b[1;32m   1089\u001b[0m             body=maybe_transform(\n",
            "\u001b[0;32m/usr/local/lib/python3.11/dist-packages/openai/_base_client.py\u001b[0m in \u001b[0;36mpost\u001b[0;34m(self, path, cast_to, body, options, files, stream, stream_cls)\u001b[0m\n\u001b[1;32m   1247\u001b[0m             \u001b[0mmethod\u001b[0m\u001b[0;34m=\u001b[0m\u001b[0;34m\"post\"\u001b[0m\u001b[0;34m,\u001b[0m \u001b[0murl\u001b[0m\u001b[0;34m=\u001b[0m\u001b[0mpath\u001b[0m\u001b[0;34m,\u001b[0m \u001b[0mjson_data\u001b[0m\u001b[0;34m=\u001b[0m\u001b[0mbody\u001b[0m\u001b[0;34m,\u001b[0m \u001b[0mfiles\u001b[0m\u001b[0;34m=\u001b[0m\u001b[0mto_httpx_files\u001b[0m\u001b[0;34m(\u001b[0m\u001b[0mfiles\u001b[0m\u001b[0;34m)\u001b[0m\u001b[0;34m,\u001b[0m \u001b[0;34m**\u001b[0m\u001b[0moptions\u001b[0m\u001b[0;34m\u001b[0m\u001b[0;34m\u001b[0m\u001b[0m\n\u001b[1;32m   1248\u001b[0m         )\n\u001b[0;32m-> 1249\u001b[0;31m         \u001b[0;32mreturn\u001b[0m \u001b[0mcast\u001b[0m\u001b[0;34m(\u001b[0m\u001b[0mResponseT\u001b[0m\u001b[0;34m,\u001b[0m \u001b[0mself\u001b[0m\u001b[0;34m.\u001b[0m\u001b[0mrequest\u001b[0m\u001b[0;34m(\u001b[0m\u001b[0mcast_to\u001b[0m\u001b[0;34m,\u001b[0m \u001b[0mopts\u001b[0m\u001b[0;34m,\u001b[0m \u001b[0mstream\u001b[0m\u001b[0;34m=\u001b[0m\u001b[0mstream\u001b[0m\u001b[0;34m,\u001b[0m \u001b[0mstream_cls\u001b[0m\u001b[0;34m=\u001b[0m\u001b[0mstream_cls\u001b[0m\u001b[0;34m)\u001b[0m\u001b[0;34m)\u001b[0m\u001b[0;34m\u001b[0m\u001b[0;34m\u001b[0m\u001b[0m\n\u001b[0m\u001b[1;32m   1250\u001b[0m \u001b[0;34m\u001b[0m\u001b[0m\n\u001b[1;32m   1251\u001b[0m     def patch(\n",
            "\u001b[0;32m/usr/local/lib/python3.11/dist-packages/openai/_base_client.py\u001b[0m in \u001b[0;36mrequest\u001b[0;34m(self, cast_to, options, stream, stream_cls)\u001b[0m\n\u001b[1;32m    970\u001b[0m             \u001b[0mresponse\u001b[0m \u001b[0;34m=\u001b[0m \u001b[0;32mNone\u001b[0m\u001b[0;34m\u001b[0m\u001b[0;34m\u001b[0m\u001b[0m\n\u001b[1;32m    971\u001b[0m             \u001b[0;32mtry\u001b[0m\u001b[0;34m:\u001b[0m\u001b[0;34m\u001b[0m\u001b[0;34m\u001b[0m\u001b[0m\n\u001b[0;32m--> 972\u001b[0;31m                 response = self._client.send(\n\u001b[0m\u001b[1;32m    973\u001b[0m                     \u001b[0mrequest\u001b[0m\u001b[0;34m,\u001b[0m\u001b[0;34m\u001b[0m\u001b[0;34m\u001b[0m\u001b[0m\n\u001b[1;32m    974\u001b[0m                     \u001b[0mstream\u001b[0m\u001b[0;34m=\u001b[0m\u001b[0mstream\u001b[0m \u001b[0;32mor\u001b[0m \u001b[0mself\u001b[0m\u001b[0;34m.\u001b[0m\u001b[0m_should_stream_response_body\u001b[0m\u001b[0;34m(\u001b[0m\u001b[0mrequest\u001b[0m\u001b[0;34m=\u001b[0m\u001b[0mrequest\u001b[0m\u001b[0;34m)\u001b[0m\u001b[0;34m,\u001b[0m\u001b[0;34m\u001b[0m\u001b[0;34m\u001b[0m\u001b[0m\n",
            "\u001b[0;32m/usr/local/lib/python3.11/dist-packages/httpx/_client.py\u001b[0m in \u001b[0;36msend\u001b[0;34m(self, request, stream, auth, follow_redirects)\u001b[0m\n\u001b[1;32m    926\u001b[0m         \u001b[0;32mexcept\u001b[0m \u001b[0mBaseException\u001b[0m \u001b[0;32mas\u001b[0m \u001b[0mexc\u001b[0m\u001b[0;34m:\u001b[0m\u001b[0;34m\u001b[0m\u001b[0;34m\u001b[0m\u001b[0m\n\u001b[1;32m    927\u001b[0m             \u001b[0mresponse\u001b[0m\u001b[0;34m.\u001b[0m\u001b[0mclose\u001b[0m\u001b[0;34m(\u001b[0m\u001b[0;34m)\u001b[0m\u001b[0;34m\u001b[0m\u001b[0;34m\u001b[0m\u001b[0m\n\u001b[0;32m--> 928\u001b[0;31m             \u001b[0;32mraise\u001b[0m \u001b[0mexc\u001b[0m\u001b[0;34m\u001b[0m\u001b[0;34m\u001b[0m\u001b[0m\n\u001b[0m\u001b[1;32m    929\u001b[0m \u001b[0;34m\u001b[0m\u001b[0m\n\u001b[1;32m    930\u001b[0m     def _send_handling_auth(\n",
            "\u001b[0;32m/usr/local/lib/python3.11/dist-packages/httpx/_client.py\u001b[0m in \u001b[0;36msend\u001b[0;34m(self, request, stream, auth, follow_redirects)\u001b[0m\n\u001b[1;32m    920\u001b[0m         \u001b[0;32mtry\u001b[0m\u001b[0;34m:\u001b[0m\u001b[0;34m\u001b[0m\u001b[0;34m\u001b[0m\u001b[0m\n\u001b[1;32m    921\u001b[0m             \u001b[0;32mif\u001b[0m \u001b[0;32mnot\u001b[0m \u001b[0mstream\u001b[0m\u001b[0;34m:\u001b[0m\u001b[0;34m\u001b[0m\u001b[0;34m\u001b[0m\u001b[0m\n\u001b[0;32m--> 922\u001b[0;31m                 \u001b[0mresponse\u001b[0m\u001b[0;34m.\u001b[0m\u001b[0mread\u001b[0m\u001b[0;34m(\u001b[0m\u001b[0;34m)\u001b[0m\u001b[0;34m\u001b[0m\u001b[0;34m\u001b[0m\u001b[0m\n\u001b[0m\u001b[1;32m    923\u001b[0m \u001b[0;34m\u001b[0m\u001b[0m\n\u001b[1;32m    924\u001b[0m             \u001b[0;32mreturn\u001b[0m \u001b[0mresponse\u001b[0m\u001b[0;34m\u001b[0m\u001b[0;34m\u001b[0m\u001b[0m\n",
            "\u001b[0;32m/usr/local/lib/python3.11/dist-packages/httpx/_models.py\u001b[0m in \u001b[0;36mread\u001b[0;34m(self)\u001b[0m\n\u001b[1;32m    879\u001b[0m         \"\"\"\n\u001b[1;32m    880\u001b[0m         \u001b[0;32mif\u001b[0m \u001b[0;32mnot\u001b[0m \u001b[0mhasattr\u001b[0m\u001b[0;34m(\u001b[0m\u001b[0mself\u001b[0m\u001b[0;34m,\u001b[0m \u001b[0;34m\"_content\"\u001b[0m\u001b[0;34m)\u001b[0m\u001b[0;34m:\u001b[0m\u001b[0;34m\u001b[0m\u001b[0;34m\u001b[0m\u001b[0m\n\u001b[0;32m--> 881\u001b[0;31m             \u001b[0mself\u001b[0m\u001b[0;34m.\u001b[0m\u001b[0m_content\u001b[0m \u001b[0;34m=\u001b[0m \u001b[0;34mb\"\"\u001b[0m\u001b[0;34m.\u001b[0m\u001b[0mjoin\u001b[0m\u001b[0;34m(\u001b[0m\u001b[0mself\u001b[0m\u001b[0;34m.\u001b[0m\u001b[0miter_bytes\u001b[0m\u001b[0;34m(\u001b[0m\u001b[0;34m)\u001b[0m\u001b[0;34m)\u001b[0m\u001b[0;34m\u001b[0m\u001b[0;34m\u001b[0m\u001b[0m\n\u001b[0m\u001b[1;32m    882\u001b[0m         \u001b[0;32mreturn\u001b[0m \u001b[0mself\u001b[0m\u001b[0;34m.\u001b[0m\u001b[0m_content\u001b[0m\u001b[0;34m\u001b[0m\u001b[0;34m\u001b[0m\u001b[0m\n\u001b[1;32m    883\u001b[0m \u001b[0;34m\u001b[0m\u001b[0m\n",
            "\u001b[0;32m/usr/local/lib/python3.11/dist-packages/httpx/_models.py\u001b[0m in \u001b[0;36miter_bytes\u001b[0;34m(self, chunk_size)\u001b[0m\n\u001b[1;32m    895\u001b[0m             \u001b[0mchunker\u001b[0m \u001b[0;34m=\u001b[0m \u001b[0mByteChunker\u001b[0m\u001b[0;34m(\u001b[0m\u001b[0mchunk_size\u001b[0m\u001b[0;34m=\u001b[0m\u001b[0mchunk_size\u001b[0m\u001b[0;34m)\u001b[0m\u001b[0;34m\u001b[0m\u001b[0;34m\u001b[0m\u001b[0m\n\u001b[1;32m    896\u001b[0m             \u001b[0;32mwith\u001b[0m \u001b[0mrequest_context\u001b[0m\u001b[0;34m(\u001b[0m\u001b[0mrequest\u001b[0m\u001b[0;34m=\u001b[0m\u001b[0mself\u001b[0m\u001b[0;34m.\u001b[0m\u001b[0m_request\u001b[0m\u001b[0;34m)\u001b[0m\u001b[0;34m:\u001b[0m\u001b[0;34m\u001b[0m\u001b[0;34m\u001b[0m\u001b[0m\n\u001b[0;32m--> 897\u001b[0;31m                 \u001b[0;32mfor\u001b[0m \u001b[0mraw_bytes\u001b[0m \u001b[0;32min\u001b[0m \u001b[0mself\u001b[0m\u001b[0;34m.\u001b[0m\u001b[0miter_raw\u001b[0m\u001b[0;34m(\u001b[0m\u001b[0;34m)\u001b[0m\u001b[0;34m:\u001b[0m\u001b[0;34m\u001b[0m\u001b[0;34m\u001b[0m\u001b[0m\n\u001b[0m\u001b[1;32m    898\u001b[0m                     \u001b[0mdecoded\u001b[0m \u001b[0;34m=\u001b[0m \u001b[0mdecoder\u001b[0m\u001b[0;34m.\u001b[0m\u001b[0mdecode\u001b[0m\u001b[0;34m(\u001b[0m\u001b[0mraw_bytes\u001b[0m\u001b[0;34m)\u001b[0m\u001b[0;34m\u001b[0m\u001b[0;34m\u001b[0m\u001b[0m\n\u001b[1;32m    899\u001b[0m                     \u001b[0;32mfor\u001b[0m \u001b[0mchunk\u001b[0m \u001b[0;32min\u001b[0m \u001b[0mchunker\u001b[0m\u001b[0;34m.\u001b[0m\u001b[0mdecode\u001b[0m\u001b[0;34m(\u001b[0m\u001b[0mdecoded\u001b[0m\u001b[0;34m)\u001b[0m\u001b[0;34m:\u001b[0m\u001b[0;34m\u001b[0m\u001b[0;34m\u001b[0m\u001b[0m\n",
            "\u001b[0;32m/usr/local/lib/python3.11/dist-packages/httpx/_models.py\u001b[0m in \u001b[0;36miter_raw\u001b[0;34m(self, chunk_size)\u001b[0m\n\u001b[1;32m    949\u001b[0m \u001b[0;34m\u001b[0m\u001b[0m\n\u001b[1;32m    950\u001b[0m         \u001b[0;32mwith\u001b[0m \u001b[0mrequest_context\u001b[0m\u001b[0;34m(\u001b[0m\u001b[0mrequest\u001b[0m\u001b[0;34m=\u001b[0m\u001b[0mself\u001b[0m\u001b[0;34m.\u001b[0m\u001b[0m_request\u001b[0m\u001b[0;34m)\u001b[0m\u001b[0;34m:\u001b[0m\u001b[0;34m\u001b[0m\u001b[0;34m\u001b[0m\u001b[0m\n\u001b[0;32m--> 951\u001b[0;31m             \u001b[0;32mfor\u001b[0m \u001b[0mraw_stream_bytes\u001b[0m \u001b[0;32min\u001b[0m \u001b[0mself\u001b[0m\u001b[0;34m.\u001b[0m\u001b[0mstream\u001b[0m\u001b[0;34m:\u001b[0m\u001b[0;34m\u001b[0m\u001b[0;34m\u001b[0m\u001b[0m\n\u001b[0m\u001b[1;32m    952\u001b[0m                 \u001b[0mself\u001b[0m\u001b[0;34m.\u001b[0m\u001b[0m_num_bytes_downloaded\u001b[0m \u001b[0;34m+=\u001b[0m \u001b[0mlen\u001b[0m\u001b[0;34m(\u001b[0m\u001b[0mraw_stream_bytes\u001b[0m\u001b[0;34m)\u001b[0m\u001b[0;34m\u001b[0m\u001b[0;34m\u001b[0m\u001b[0m\n\u001b[1;32m    953\u001b[0m                 \u001b[0;32mfor\u001b[0m \u001b[0mchunk\u001b[0m \u001b[0;32min\u001b[0m \u001b[0mchunker\u001b[0m\u001b[0;34m.\u001b[0m\u001b[0mdecode\u001b[0m\u001b[0;34m(\u001b[0m\u001b[0mraw_stream_bytes\u001b[0m\u001b[0;34m)\u001b[0m\u001b[0;34m:\u001b[0m\u001b[0;34m\u001b[0m\u001b[0;34m\u001b[0m\u001b[0m\n",
            "\u001b[0;32m/usr/local/lib/python3.11/dist-packages/httpx/_client.py\u001b[0m in \u001b[0;36m__iter__\u001b[0;34m(self)\u001b[0m\n\u001b[1;32m    151\u001b[0m \u001b[0;34m\u001b[0m\u001b[0m\n\u001b[1;32m    152\u001b[0m     \u001b[0;32mdef\u001b[0m \u001b[0m__iter__\u001b[0m\u001b[0;34m(\u001b[0m\u001b[0mself\u001b[0m\u001b[0;34m)\u001b[0m \u001b[0;34m->\u001b[0m \u001b[0mtyping\u001b[0m\u001b[0;34m.\u001b[0m\u001b[0mIterator\u001b[0m\u001b[0;34m[\u001b[0m\u001b[0mbytes\u001b[0m\u001b[0;34m]\u001b[0m\u001b[0;34m:\u001b[0m\u001b[0;34m\u001b[0m\u001b[0;34m\u001b[0m\u001b[0m\n\u001b[0;32m--> 153\u001b[0;31m         \u001b[0;32mfor\u001b[0m \u001b[0mchunk\u001b[0m \u001b[0;32min\u001b[0m \u001b[0mself\u001b[0m\u001b[0;34m.\u001b[0m\u001b[0m_stream\u001b[0m\u001b[0;34m:\u001b[0m\u001b[0;34m\u001b[0m\u001b[0;34m\u001b[0m\u001b[0m\n\u001b[0m\u001b[1;32m    154\u001b[0m             \u001b[0;32myield\u001b[0m \u001b[0mchunk\u001b[0m\u001b[0;34m\u001b[0m\u001b[0;34m\u001b[0m\u001b[0m\n\u001b[1;32m    155\u001b[0m \u001b[0;34m\u001b[0m\u001b[0m\n",
            "\u001b[0;32m/usr/local/lib/python3.11/dist-packages/httpx/_transports/default.py\u001b[0m in \u001b[0;36m__iter__\u001b[0;34m(self)\u001b[0m\n\u001b[1;32m    125\u001b[0m     \u001b[0;32mdef\u001b[0m \u001b[0m__iter__\u001b[0m\u001b[0;34m(\u001b[0m\u001b[0mself\u001b[0m\u001b[0;34m)\u001b[0m \u001b[0;34m->\u001b[0m \u001b[0mtyping\u001b[0m\u001b[0;34m.\u001b[0m\u001b[0mIterator\u001b[0m\u001b[0;34m[\u001b[0m\u001b[0mbytes\u001b[0m\u001b[0;34m]\u001b[0m\u001b[0;34m:\u001b[0m\u001b[0;34m\u001b[0m\u001b[0;34m\u001b[0m\u001b[0m\n\u001b[1;32m    126\u001b[0m         \u001b[0;32mwith\u001b[0m \u001b[0mmap_httpcore_exceptions\u001b[0m\u001b[0;34m(\u001b[0m\u001b[0;34m)\u001b[0m\u001b[0;34m:\u001b[0m\u001b[0;34m\u001b[0m\u001b[0;34m\u001b[0m\u001b[0m\n\u001b[0;32m--> 127\u001b[0;31m             \u001b[0;32mfor\u001b[0m \u001b[0mpart\u001b[0m \u001b[0;32min\u001b[0m \u001b[0mself\u001b[0m\u001b[0;34m.\u001b[0m\u001b[0m_httpcore_stream\u001b[0m\u001b[0;34m:\u001b[0m\u001b[0;34m\u001b[0m\u001b[0;34m\u001b[0m\u001b[0m\n\u001b[0m\u001b[1;32m    128\u001b[0m                 \u001b[0;32myield\u001b[0m \u001b[0mpart\u001b[0m\u001b[0;34m\u001b[0m\u001b[0;34m\u001b[0m\u001b[0m\n\u001b[1;32m    129\u001b[0m \u001b[0;34m\u001b[0m\u001b[0m\n",
            "\u001b[0;32m/usr/local/lib/python3.11/dist-packages/httpcore/_sync/connection_pool.py\u001b[0m in \u001b[0;36m__iter__\u001b[0;34m(self)\u001b[0m\n\u001b[1;32m    405\u001b[0m         \u001b[0;32mexcept\u001b[0m \u001b[0mBaseException\u001b[0m \u001b[0;32mas\u001b[0m \u001b[0mexc\u001b[0m\u001b[0;34m:\u001b[0m\u001b[0;34m\u001b[0m\u001b[0;34m\u001b[0m\u001b[0m\n\u001b[1;32m    406\u001b[0m             \u001b[0mself\u001b[0m\u001b[0;34m.\u001b[0m\u001b[0mclose\u001b[0m\u001b[0;34m(\u001b[0m\u001b[0;34m)\u001b[0m\u001b[0;34m\u001b[0m\u001b[0;34m\u001b[0m\u001b[0m\n\u001b[0;32m--> 407\u001b[0;31m             \u001b[0;32mraise\u001b[0m \u001b[0mexc\u001b[0m \u001b[0;32mfrom\u001b[0m \u001b[0;32mNone\u001b[0m\u001b[0;34m\u001b[0m\u001b[0;34m\u001b[0m\u001b[0m\n\u001b[0m\u001b[1;32m    408\u001b[0m \u001b[0;34m\u001b[0m\u001b[0m\n\u001b[1;32m    409\u001b[0m     \u001b[0;32mdef\u001b[0m \u001b[0mclose\u001b[0m\u001b[0;34m(\u001b[0m\u001b[0mself\u001b[0m\u001b[0;34m)\u001b[0m \u001b[0;34m->\u001b[0m \u001b[0;32mNone\u001b[0m\u001b[0;34m:\u001b[0m\u001b[0;34m\u001b[0m\u001b[0;34m\u001b[0m\u001b[0m\n",
            "\u001b[0;32m/usr/local/lib/python3.11/dist-packages/httpcore/_sync/connection_pool.py\u001b[0m in \u001b[0;36m__iter__\u001b[0;34m(self)\u001b[0m\n\u001b[1;32m    401\u001b[0m     \u001b[0;32mdef\u001b[0m \u001b[0m__iter__\u001b[0m\u001b[0;34m(\u001b[0m\u001b[0mself\u001b[0m\u001b[0;34m)\u001b[0m \u001b[0;34m->\u001b[0m \u001b[0mtyping\u001b[0m\u001b[0;34m.\u001b[0m\u001b[0mIterator\u001b[0m\u001b[0;34m[\u001b[0m\u001b[0mbytes\u001b[0m\u001b[0;34m]\u001b[0m\u001b[0;34m:\u001b[0m\u001b[0;34m\u001b[0m\u001b[0;34m\u001b[0m\u001b[0m\n\u001b[1;32m    402\u001b[0m         \u001b[0;32mtry\u001b[0m\u001b[0;34m:\u001b[0m\u001b[0;34m\u001b[0m\u001b[0;34m\u001b[0m\u001b[0m\n\u001b[0;32m--> 403\u001b[0;31m             \u001b[0;32mfor\u001b[0m \u001b[0mpart\u001b[0m \u001b[0;32min\u001b[0m \u001b[0mself\u001b[0m\u001b[0;34m.\u001b[0m\u001b[0m_stream\u001b[0m\u001b[0;34m:\u001b[0m\u001b[0;34m\u001b[0m\u001b[0;34m\u001b[0m\u001b[0m\n\u001b[0m\u001b[1;32m    404\u001b[0m                 \u001b[0;32myield\u001b[0m \u001b[0mpart\u001b[0m\u001b[0;34m\u001b[0m\u001b[0;34m\u001b[0m\u001b[0m\n\u001b[1;32m    405\u001b[0m         \u001b[0;32mexcept\u001b[0m \u001b[0mBaseException\u001b[0m \u001b[0;32mas\u001b[0m \u001b[0mexc\u001b[0m\u001b[0;34m:\u001b[0m\u001b[0;34m\u001b[0m\u001b[0;34m\u001b[0m\u001b[0m\n",
            "\u001b[0;32m/usr/local/lib/python3.11/dist-packages/httpcore/_sync/http11.py\u001b[0m in \u001b[0;36m__iter__\u001b[0;34m(self)\u001b[0m\n\u001b[1;32m    340\u001b[0m             \u001b[0;32mwith\u001b[0m \u001b[0mShieldCancellation\u001b[0m\u001b[0;34m(\u001b[0m\u001b[0;34m)\u001b[0m\u001b[0;34m:\u001b[0m\u001b[0;34m\u001b[0m\u001b[0;34m\u001b[0m\u001b[0m\n\u001b[1;32m    341\u001b[0m                 \u001b[0mself\u001b[0m\u001b[0;34m.\u001b[0m\u001b[0mclose\u001b[0m\u001b[0;34m(\u001b[0m\u001b[0;34m)\u001b[0m\u001b[0;34m\u001b[0m\u001b[0;34m\u001b[0m\u001b[0m\n\u001b[0;32m--> 342\u001b[0;31m             \u001b[0;32mraise\u001b[0m \u001b[0mexc\u001b[0m\u001b[0;34m\u001b[0m\u001b[0;34m\u001b[0m\u001b[0m\n\u001b[0m\u001b[1;32m    343\u001b[0m \u001b[0;34m\u001b[0m\u001b[0m\n\u001b[1;32m    344\u001b[0m     \u001b[0;32mdef\u001b[0m \u001b[0mclose\u001b[0m\u001b[0;34m(\u001b[0m\u001b[0mself\u001b[0m\u001b[0;34m)\u001b[0m \u001b[0;34m->\u001b[0m \u001b[0;32mNone\u001b[0m\u001b[0;34m:\u001b[0m\u001b[0;34m\u001b[0m\u001b[0;34m\u001b[0m\u001b[0m\n",
            "\u001b[0;32m/usr/local/lib/python3.11/dist-packages/httpcore/_sync/http11.py\u001b[0m in \u001b[0;36m__iter__\u001b[0;34m(self)\u001b[0m\n\u001b[1;32m    332\u001b[0m         \u001b[0;32mtry\u001b[0m\u001b[0;34m:\u001b[0m\u001b[0;34m\u001b[0m\u001b[0;34m\u001b[0m\u001b[0m\n\u001b[1;32m    333\u001b[0m             \u001b[0;32mwith\u001b[0m \u001b[0mTrace\u001b[0m\u001b[0;34m(\u001b[0m\u001b[0;34m\"receive_response_body\"\u001b[0m\u001b[0;34m,\u001b[0m \u001b[0mlogger\u001b[0m\u001b[0;34m,\u001b[0m \u001b[0mself\u001b[0m\u001b[0;34m.\u001b[0m\u001b[0m_request\u001b[0m\u001b[0;34m,\u001b[0m \u001b[0mkwargs\u001b[0m\u001b[0;34m)\u001b[0m\u001b[0;34m:\u001b[0m\u001b[0;34m\u001b[0m\u001b[0;34m\u001b[0m\u001b[0m\n\u001b[0;32m--> 334\u001b[0;31m                 \u001b[0;32mfor\u001b[0m \u001b[0mchunk\u001b[0m \u001b[0;32min\u001b[0m \u001b[0mself\u001b[0m\u001b[0;34m.\u001b[0m\u001b[0m_connection\u001b[0m\u001b[0;34m.\u001b[0m\u001b[0m_receive_response_body\u001b[0m\u001b[0;34m(\u001b[0m\u001b[0;34m**\u001b[0m\u001b[0mkwargs\u001b[0m\u001b[0;34m)\u001b[0m\u001b[0;34m:\u001b[0m\u001b[0;34m\u001b[0m\u001b[0;34m\u001b[0m\u001b[0m\n\u001b[0m\u001b[1;32m    335\u001b[0m                     \u001b[0;32myield\u001b[0m \u001b[0mchunk\u001b[0m\u001b[0;34m\u001b[0m\u001b[0;34m\u001b[0m\u001b[0m\n\u001b[1;32m    336\u001b[0m         \u001b[0;32mexcept\u001b[0m \u001b[0mBaseException\u001b[0m \u001b[0;32mas\u001b[0m \u001b[0mexc\u001b[0m\u001b[0;34m:\u001b[0m\u001b[0;34m\u001b[0m\u001b[0;34m\u001b[0m\u001b[0m\n",
            "\u001b[0;32m/usr/local/lib/python3.11/dist-packages/httpcore/_sync/http11.py\u001b[0m in \u001b[0;36m_receive_response_body\u001b[0;34m(self, request)\u001b[0m\n\u001b[1;32m    201\u001b[0m \u001b[0;34m\u001b[0m\u001b[0m\n\u001b[1;32m    202\u001b[0m         \u001b[0;32mwhile\u001b[0m \u001b[0;32mTrue\u001b[0m\u001b[0;34m:\u001b[0m\u001b[0;34m\u001b[0m\u001b[0;34m\u001b[0m\u001b[0m\n\u001b[0;32m--> 203\u001b[0;31m             \u001b[0mevent\u001b[0m \u001b[0;34m=\u001b[0m \u001b[0mself\u001b[0m\u001b[0;34m.\u001b[0m\u001b[0m_receive_event\u001b[0m\u001b[0;34m(\u001b[0m\u001b[0mtimeout\u001b[0m\u001b[0;34m=\u001b[0m\u001b[0mtimeout\u001b[0m\u001b[0;34m)\u001b[0m\u001b[0;34m\u001b[0m\u001b[0;34m\u001b[0m\u001b[0m\n\u001b[0m\u001b[1;32m    204\u001b[0m             \u001b[0;32mif\u001b[0m \u001b[0misinstance\u001b[0m\u001b[0;34m(\u001b[0m\u001b[0mevent\u001b[0m\u001b[0;34m,\u001b[0m \u001b[0mh11\u001b[0m\u001b[0;34m.\u001b[0m\u001b[0mData\u001b[0m\u001b[0;34m)\u001b[0m\u001b[0;34m:\u001b[0m\u001b[0;34m\u001b[0m\u001b[0;34m\u001b[0m\u001b[0m\n\u001b[1;32m    205\u001b[0m                 \u001b[0;32myield\u001b[0m \u001b[0mbytes\u001b[0m\u001b[0;34m(\u001b[0m\u001b[0mevent\u001b[0m\u001b[0;34m.\u001b[0m\u001b[0mdata\u001b[0m\u001b[0;34m)\u001b[0m\u001b[0;34m\u001b[0m\u001b[0;34m\u001b[0m\u001b[0m\n",
            "\u001b[0;32m/usr/local/lib/python3.11/dist-packages/httpcore/_sync/http11.py\u001b[0m in \u001b[0;36m_receive_event\u001b[0;34m(self, timeout)\u001b[0m\n\u001b[1;32m    215\u001b[0m \u001b[0;34m\u001b[0m\u001b[0m\n\u001b[1;32m    216\u001b[0m             \u001b[0;32mif\u001b[0m \u001b[0mevent\u001b[0m \u001b[0;32mis\u001b[0m \u001b[0mh11\u001b[0m\u001b[0;34m.\u001b[0m\u001b[0mNEED_DATA\u001b[0m\u001b[0;34m:\u001b[0m\u001b[0;34m\u001b[0m\u001b[0;34m\u001b[0m\u001b[0m\n\u001b[0;32m--> 217\u001b[0;31m                 data = self._network_stream.read(\n\u001b[0m\u001b[1;32m    218\u001b[0m                     \u001b[0mself\u001b[0m\u001b[0;34m.\u001b[0m\u001b[0mREAD_NUM_BYTES\u001b[0m\u001b[0;34m,\u001b[0m \u001b[0mtimeout\u001b[0m\u001b[0;34m=\u001b[0m\u001b[0mtimeout\u001b[0m\u001b[0;34m\u001b[0m\u001b[0;34m\u001b[0m\u001b[0m\n\u001b[1;32m    219\u001b[0m                 )\n",
            "\u001b[0;32m/usr/local/lib/python3.11/dist-packages/httpcore/_backends/sync.py\u001b[0m in \u001b[0;36mread\u001b[0;34m(self, max_bytes, timeout)\u001b[0m\n\u001b[1;32m    126\u001b[0m         \u001b[0;32mwith\u001b[0m \u001b[0mmap_exceptions\u001b[0m\u001b[0;34m(\u001b[0m\u001b[0mexc_map\u001b[0m\u001b[0;34m)\u001b[0m\u001b[0;34m:\u001b[0m\u001b[0;34m\u001b[0m\u001b[0;34m\u001b[0m\u001b[0m\n\u001b[1;32m    127\u001b[0m             \u001b[0mself\u001b[0m\u001b[0;34m.\u001b[0m\u001b[0m_sock\u001b[0m\u001b[0;34m.\u001b[0m\u001b[0msettimeout\u001b[0m\u001b[0;34m(\u001b[0m\u001b[0mtimeout\u001b[0m\u001b[0;34m)\u001b[0m\u001b[0;34m\u001b[0m\u001b[0;34m\u001b[0m\u001b[0m\n\u001b[0;32m--> 128\u001b[0;31m             \u001b[0;32mreturn\u001b[0m \u001b[0mself\u001b[0m\u001b[0;34m.\u001b[0m\u001b[0m_sock\u001b[0m\u001b[0;34m.\u001b[0m\u001b[0mrecv\u001b[0m\u001b[0;34m(\u001b[0m\u001b[0mmax_bytes\u001b[0m\u001b[0;34m)\u001b[0m\u001b[0;34m\u001b[0m\u001b[0;34m\u001b[0m\u001b[0m\n\u001b[0m\u001b[1;32m    129\u001b[0m \u001b[0;34m\u001b[0m\u001b[0m\n\u001b[1;32m    130\u001b[0m     \u001b[0;32mdef\u001b[0m \u001b[0mwrite\u001b[0m\u001b[0;34m(\u001b[0m\u001b[0mself\u001b[0m\u001b[0;34m,\u001b[0m \u001b[0mbuffer\u001b[0m\u001b[0;34m:\u001b[0m \u001b[0mbytes\u001b[0m\u001b[0;34m,\u001b[0m \u001b[0mtimeout\u001b[0m\u001b[0;34m:\u001b[0m \u001b[0mfloat\u001b[0m \u001b[0;34m|\u001b[0m \u001b[0;32mNone\u001b[0m \u001b[0;34m=\u001b[0m \u001b[0;32mNone\u001b[0m\u001b[0;34m)\u001b[0m \u001b[0;34m->\u001b[0m \u001b[0;32mNone\u001b[0m\u001b[0;34m:\u001b[0m\u001b[0;34m\u001b[0m\u001b[0;34m\u001b[0m\u001b[0m\n",
            "\u001b[0;32m/usr/lib/python3.11/ssl.py\u001b[0m in \u001b[0;36mrecv\u001b[0;34m(self, buflen, flags)\u001b[0m\n\u001b[1;32m   1293\u001b[0m                     \u001b[0;34m\"non-zero flags not allowed in calls to recv() on %s\"\u001b[0m \u001b[0;34m%\u001b[0m\u001b[0;34m\u001b[0m\u001b[0;34m\u001b[0m\u001b[0m\n\u001b[1;32m   1294\u001b[0m                     self.__class__)\n\u001b[0;32m-> 1295\u001b[0;31m             \u001b[0;32mreturn\u001b[0m \u001b[0mself\u001b[0m\u001b[0;34m.\u001b[0m\u001b[0mread\u001b[0m\u001b[0;34m(\u001b[0m\u001b[0mbuflen\u001b[0m\u001b[0;34m)\u001b[0m\u001b[0;34m\u001b[0m\u001b[0;34m\u001b[0m\u001b[0m\n\u001b[0m\u001b[1;32m   1296\u001b[0m         \u001b[0;32melse\u001b[0m\u001b[0;34m:\u001b[0m\u001b[0;34m\u001b[0m\u001b[0;34m\u001b[0m\u001b[0m\n\u001b[1;32m   1297\u001b[0m             \u001b[0;32mreturn\u001b[0m \u001b[0msuper\u001b[0m\u001b[0;34m(\u001b[0m\u001b[0;34m)\u001b[0m\u001b[0;34m.\u001b[0m\u001b[0mrecv\u001b[0m\u001b[0;34m(\u001b[0m\u001b[0mbuflen\u001b[0m\u001b[0;34m,\u001b[0m \u001b[0mflags\u001b[0m\u001b[0;34m)\u001b[0m\u001b[0;34m\u001b[0m\u001b[0;34m\u001b[0m\u001b[0m\n",
            "\u001b[0;32m/usr/lib/python3.11/ssl.py\u001b[0m in \u001b[0;36mread\u001b[0;34m(self, len, buffer)\u001b[0m\n\u001b[1;32m   1166\u001b[0m                 \u001b[0;32mreturn\u001b[0m \u001b[0mself\u001b[0m\u001b[0;34m.\u001b[0m\u001b[0m_sslobj\u001b[0m\u001b[0;34m.\u001b[0m\u001b[0mread\u001b[0m\u001b[0;34m(\u001b[0m\u001b[0mlen\u001b[0m\u001b[0;34m,\u001b[0m \u001b[0mbuffer\u001b[0m\u001b[0;34m)\u001b[0m\u001b[0;34m\u001b[0m\u001b[0;34m\u001b[0m\u001b[0m\n\u001b[1;32m   1167\u001b[0m             \u001b[0;32melse\u001b[0m\u001b[0;34m:\u001b[0m\u001b[0;34m\u001b[0m\u001b[0;34m\u001b[0m\u001b[0m\n\u001b[0;32m-> 1168\u001b[0;31m                 \u001b[0;32mreturn\u001b[0m \u001b[0mself\u001b[0m\u001b[0;34m.\u001b[0m\u001b[0m_sslobj\u001b[0m\u001b[0;34m.\u001b[0m\u001b[0mread\u001b[0m\u001b[0;34m(\u001b[0m\u001b[0mlen\u001b[0m\u001b[0;34m)\u001b[0m\u001b[0;34m\u001b[0m\u001b[0;34m\u001b[0m\u001b[0m\n\u001b[0m\u001b[1;32m   1169\u001b[0m         \u001b[0;32mexcept\u001b[0m \u001b[0mSSLError\u001b[0m \u001b[0;32mas\u001b[0m \u001b[0mx\u001b[0m\u001b[0;34m:\u001b[0m\u001b[0;34m\u001b[0m\u001b[0;34m\u001b[0m\u001b[0m\n\u001b[1;32m   1170\u001b[0m             \u001b[0;32mif\u001b[0m \u001b[0mx\u001b[0m\u001b[0;34m.\u001b[0m\u001b[0margs\u001b[0m\u001b[0;34m[\u001b[0m\u001b[0;36m0\u001b[0m\u001b[0;34m]\u001b[0m \u001b[0;34m==\u001b[0m \u001b[0mSSL_ERROR_EOF\u001b[0m \u001b[0;32mand\u001b[0m \u001b[0mself\u001b[0m\u001b[0;34m.\u001b[0m\u001b[0msuppress_ragged_eofs\u001b[0m\u001b[0;34m:\u001b[0m\u001b[0;34m\u001b[0m\u001b[0;34m\u001b[0m\u001b[0m\n",
            "\u001b[0;31mKeyboardInterrupt\u001b[0m: "
          ]
        }
      ],
      "source": [
        "# Phase 2: DeepSeek adjudication for all 500 questions\n",
        "print(\"Starting Phase 2: DeepSeek adjudication for all 500 questions...\")\n",
        "print(f\"This will take approximately {(len(df_phase1) * 2 * REQUEST_INTERVAL_SEC) / 60:.1f} minutes\")\n",
        "print(\"Processing with 30 requests per minute to avoid rate limits.\\n\")\n",
        "\n",
        "# Initialize new columns in the dataframe\n",
        "df_phase1[\"baseline_int_ds\"] = \"\"\n",
        "df_phase1[\"baseline_ds_raw\"] = \"\"\n",
        "df_phase1[\"think_int_ds\"] = \"\"\n",
        "df_phase1[\"think_ds_raw\"] = \"\"\n",
        "\n",
        "start_time = time.time()\n",
        "\n",
        "for idx, row in df_phase1.iterrows():\n",
        "    if idx % 50 == 0:\n",
        "        elapsed = (time.time() - start_time) / 60\n",
        "        remaining = (len(df_phase1) - idx) * 2 * REQUEST_INTERVAL_SEC / 60\n",
        "        print(f\"Processing question {idx}/500... (elapsed: {elapsed:.1f}min, remaining: {remaining:.1f}min)\")\n",
        "\n",
        "    question = row[\"question\"]\n",
        "\n",
        "    # Process baseline output\n",
        "    baseline_raw = row[\"baseline_raw\"].replace(\" \\\\n \", \"\\n\")  # Convert back from CSV format\n",
        "    try:\n",
        "        ans_b, raw_b = deepseek_extract_answer(question, baseline_raw)\n",
        "        df_phase1.at[idx, \"baseline_int_ds\"] = ans_b\n",
        "        df_phase1.at[idx, \"baseline_ds_raw\"] = raw_b\n",
        "    except Exception as e:\n",
        "        print(f\"Failed to process baseline for question {idx}: {e}\")\n",
        "        df_phase1.at[idx, \"baseline_int_ds\"] = \"\"\n",
        "        df_phase1.at[idx, \"baseline_ds_raw\"] = f\"ERROR: {str(e)}\"\n",
        "\n",
        "    time.sleep(REQUEST_INTERVAL_SEC)\n",
        "\n",
        "    # Process thinking output\n",
        "    think_raw = row[\"think_raw\"].replace(\" \\\\n \", \"\\n\")  # Convert back from CSV format\n",
        "    try:\n",
        "        ans_t, raw_t = deepseek_extract_answer(question, think_raw)\n",
        "        df_phase1.at[idx, \"think_int_ds\"] = ans_t\n",
        "        df_phase1.at[idx, \"think_ds_raw\"] = raw_t\n",
        "    except Exception as e:\n",
        "        print(f\"Failed to process thinking for question {idx}: {e}\")\n",
        "        df_phase1.at[idx, \"think_int_ds\"] = \"\"\n",
        "        df_phase1.at[idx, \"think_ds_raw\"] = f\"ERROR: {str(e)}\"\n",
        "\n",
        "    time.sleep(REQUEST_INTERVAL_SEC)\n",
        "\n",
        "# Calculate correctness based on DeepSeek extractions\n",
        "df_phase1[\"correct_baseline_ds\"] = df_phase1[\"baseline_int_ds\"] == df_phase1[\"gold\"]\n",
        "df_phase1[\"correct_think_ds\"] = df_phase1[\"think_int_ds\"] == df_phase1[\"gold\"]\n",
        "\n",
        "# Save results\n",
        "output_path = \"/content/drive/MyDrive/gsm8k_think_metrics_deepseek.csv\"\n",
        "df_phase1.to_csv(output_path, index=False)\n",
        "\n",
        "total_time = (time.time() - start_time) / 60\n",
        "print(f\"\\n✓ Phase 2 complete! Total time: {total_time:.1f} minutes\")\n",
        "print(f\"DeepSeek adjudication results saved to: {output_path}\")\n"
      ]
    },
    {
      "cell_type": "code",
      "execution_count": null,
      "metadata": {
        "collapsed": true,
        "id": "0Fbf_ajq0ODp"
      },
      "outputs": [],
      "source": [
        "output_path = \"/content/drive/MyDrive/gsm8k_think_metrics_deepseek.csv\"\n",
        "df_phase1.to_csv(output_path, index=False)"
      ]
    },
    {
      "cell_type": "code",
      "execution_count": null,
      "metadata": {
        "colab": {
          "base_uri": "https://localhost:8080/",
          "height": 561
        },
        "id": "RwzDcL1E2K9p",
        "outputId": "18f44488-4831-40d4-eabf-72169de51125"
      },
      "outputs": [
        {
          "ename": "KeyError",
          "evalue": "'correct_baseline_ds'",
          "output_type": "error",
          "traceback": [
            "\u001b[0;31m---------------------------------------------------------------------------\u001b[0m",
            "\u001b[0;31mKeyError\u001b[0m                                  Traceback (most recent call last)",
            "\u001b[0;32m/usr/local/lib/python3.11/dist-packages/pandas/core/indexes/base.py\u001b[0m in \u001b[0;36mget_loc\u001b[0;34m(self, key)\u001b[0m\n\u001b[1;32m   3811\u001b[0m         \u001b[0;32mtry\u001b[0m\u001b[0;34m:\u001b[0m\u001b[0;34m\u001b[0m\u001b[0;34m\u001b[0m\u001b[0m\n\u001b[0;32m-> 3812\u001b[0;31m             \u001b[0;32mreturn\u001b[0m \u001b[0mself\u001b[0m\u001b[0;34m.\u001b[0m\u001b[0m_engine\u001b[0m\u001b[0;34m.\u001b[0m\u001b[0mget_loc\u001b[0m\u001b[0;34m(\u001b[0m\u001b[0mcasted_key\u001b[0m\u001b[0;34m)\u001b[0m\u001b[0;34m\u001b[0m\u001b[0;34m\u001b[0m\u001b[0m\n\u001b[0m\u001b[1;32m   3813\u001b[0m         \u001b[0;32mexcept\u001b[0m \u001b[0mKeyError\u001b[0m \u001b[0;32mas\u001b[0m \u001b[0merr\u001b[0m\u001b[0;34m:\u001b[0m\u001b[0;34m\u001b[0m\u001b[0;34m\u001b[0m\u001b[0m\n",
            "\u001b[0;32mpandas/_libs/index.pyx\u001b[0m in \u001b[0;36mpandas._libs.index.IndexEngine.get_loc\u001b[0;34m()\u001b[0m\n",
            "\u001b[0;32mpandas/_libs/index.pyx\u001b[0m in \u001b[0;36mpandas._libs.index.IndexEngine.get_loc\u001b[0;34m()\u001b[0m\n",
            "\u001b[0;32mpandas/_libs/hashtable_class_helper.pxi\u001b[0m in \u001b[0;36mpandas._libs.hashtable.PyObjectHashTable.get_item\u001b[0;34m()\u001b[0m\n",
            "\u001b[0;32mpandas/_libs/hashtable_class_helper.pxi\u001b[0m in \u001b[0;36mpandas._libs.hashtable.PyObjectHashTable.get_item\u001b[0;34m()\u001b[0m\n",
            "\u001b[0;31mKeyError\u001b[0m: 'correct_baseline_ds'",
            "\nThe above exception was the direct cause of the following exception:\n",
            "\u001b[0;31mKeyError\u001b[0m                                  Traceback (most recent call last)",
            "\u001b[0;32m/tmp/ipython-input-14-2584216213.py\u001b[0m in \u001b[0;36m<cell line: 0>\u001b[0;34m()\u001b[0m\n\u001b[1;32m      3\u001b[0m \u001b[0;34m\u001b[0m\u001b[0m\n\u001b[1;32m      4\u001b[0m \u001b[0;31m# Calculate accuracies using DeepSeek-extracted answers\u001b[0m\u001b[0;34m\u001b[0m\u001b[0;34m\u001b[0m\u001b[0m\n\u001b[0;32m----> 5\u001b[0;31m \u001b[0mbase_acc_ds\u001b[0m \u001b[0;34m=\u001b[0m \u001b[0mdf_final\u001b[0m\u001b[0;34m[\u001b[0m\u001b[0;34m\"correct_baseline_ds\"\u001b[0m\u001b[0;34m]\u001b[0m\u001b[0;34m.\u001b[0m\u001b[0mmean\u001b[0m\u001b[0;34m(\u001b[0m\u001b[0;34m)\u001b[0m\u001b[0;34m\u001b[0m\u001b[0;34m\u001b[0m\u001b[0m\n\u001b[0m\u001b[1;32m      6\u001b[0m \u001b[0mthink_acc_ds\u001b[0m \u001b[0;34m=\u001b[0m \u001b[0mdf_final\u001b[0m\u001b[0;34m[\u001b[0m\u001b[0;34m\"correct_think_ds\"\u001b[0m\u001b[0;34m]\u001b[0m\u001b[0;34m.\u001b[0m\u001b[0mmean\u001b[0m\u001b[0;34m(\u001b[0m\u001b[0;34m)\u001b[0m\u001b[0;34m\u001b[0m\u001b[0;34m\u001b[0m\u001b[0m\n\u001b[1;32m      7\u001b[0m \u001b[0;34m\u001b[0m\u001b[0m\n",
            "\u001b[0;32m/usr/local/lib/python3.11/dist-packages/pandas/core/frame.py\u001b[0m in \u001b[0;36m__getitem__\u001b[0;34m(self, key)\u001b[0m\n\u001b[1;32m   4105\u001b[0m             \u001b[0;32mif\u001b[0m \u001b[0mself\u001b[0m\u001b[0;34m.\u001b[0m\u001b[0mcolumns\u001b[0m\u001b[0;34m.\u001b[0m\u001b[0mnlevels\u001b[0m \u001b[0;34m>\u001b[0m \u001b[0;36m1\u001b[0m\u001b[0;34m:\u001b[0m\u001b[0;34m\u001b[0m\u001b[0;34m\u001b[0m\u001b[0m\n\u001b[1;32m   4106\u001b[0m                 \u001b[0;32mreturn\u001b[0m \u001b[0mself\u001b[0m\u001b[0;34m.\u001b[0m\u001b[0m_getitem_multilevel\u001b[0m\u001b[0;34m(\u001b[0m\u001b[0mkey\u001b[0m\u001b[0;34m)\u001b[0m\u001b[0;34m\u001b[0m\u001b[0;34m\u001b[0m\u001b[0m\n\u001b[0;32m-> 4107\u001b[0;31m             \u001b[0mindexer\u001b[0m \u001b[0;34m=\u001b[0m \u001b[0mself\u001b[0m\u001b[0;34m.\u001b[0m\u001b[0mcolumns\u001b[0m\u001b[0;34m.\u001b[0m\u001b[0mget_loc\u001b[0m\u001b[0;34m(\u001b[0m\u001b[0mkey\u001b[0m\u001b[0;34m)\u001b[0m\u001b[0;34m\u001b[0m\u001b[0;34m\u001b[0m\u001b[0m\n\u001b[0m\u001b[1;32m   4108\u001b[0m             \u001b[0;32mif\u001b[0m \u001b[0mis_integer\u001b[0m\u001b[0;34m(\u001b[0m\u001b[0mindexer\u001b[0m\u001b[0;34m)\u001b[0m\u001b[0;34m:\u001b[0m\u001b[0;34m\u001b[0m\u001b[0;34m\u001b[0m\u001b[0m\n\u001b[1;32m   4109\u001b[0m                 \u001b[0mindexer\u001b[0m \u001b[0;34m=\u001b[0m \u001b[0;34m[\u001b[0m\u001b[0mindexer\u001b[0m\u001b[0;34m]\u001b[0m\u001b[0;34m\u001b[0m\u001b[0;34m\u001b[0m\u001b[0m\n",
            "\u001b[0;32m/usr/local/lib/python3.11/dist-packages/pandas/core/indexes/base.py\u001b[0m in \u001b[0;36mget_loc\u001b[0;34m(self, key)\u001b[0m\n\u001b[1;32m   3817\u001b[0m             ):\n\u001b[1;32m   3818\u001b[0m                 \u001b[0;32mraise\u001b[0m \u001b[0mInvalidIndexError\u001b[0m\u001b[0;34m(\u001b[0m\u001b[0mkey\u001b[0m\u001b[0;34m)\u001b[0m\u001b[0;34m\u001b[0m\u001b[0;34m\u001b[0m\u001b[0m\n\u001b[0;32m-> 3819\u001b[0;31m             \u001b[0;32mraise\u001b[0m \u001b[0mKeyError\u001b[0m\u001b[0;34m(\u001b[0m\u001b[0mkey\u001b[0m\u001b[0;34m)\u001b[0m \u001b[0;32mfrom\u001b[0m \u001b[0merr\u001b[0m\u001b[0;34m\u001b[0m\u001b[0;34m\u001b[0m\u001b[0m\n\u001b[0m\u001b[1;32m   3820\u001b[0m         \u001b[0;32mexcept\u001b[0m \u001b[0mTypeError\u001b[0m\u001b[0;34m:\u001b[0m\u001b[0;34m\u001b[0m\u001b[0;34m\u001b[0m\u001b[0m\n\u001b[1;32m   3821\u001b[0m             \u001b[0;31m# If we have a listlike key, _check_indexing_error will raise\u001b[0m\u001b[0;34m\u001b[0m\u001b[0;34m\u001b[0m\u001b[0m\n",
            "\u001b[0;31mKeyError\u001b[0m: 'correct_baseline_ds'"
          ]
        }
      ],
      "source": [
        "# Final Results Analysis with DeepSeek Adjudication\n",
        "df_final = df_phase1  # Use the dataframe with DeepSeek results\n",
        "\n",
        "# Calculate accuracies using DeepSeek-extracted answers\n",
        "base_acc_ds = df_final[\"correct_baseline_ds\"].mean()\n",
        "think_acc_ds = df_final[\"correct_think_ds\"].mean()\n",
        "\n",
        "print(f\"\\n\" + \"=\"*60)\n",
        "print(f\"FINAL RESULTS (DeepSeek-Reasoner Adjudicated)\")\n",
        "print(f\"=\"*60)\n",
        "print(f\"Baseline φ-3 accuracy on 500 GSM-8K questions: {base_acc_ds:.2%}\")\n",
        "print(f\"Think-advance model accuracy: {think_acc_ds:.2%}\")\n",
        "print(f\"Improvement: {(think_acc_ds - base_acc_ds):.2%} ({(think_acc_ds/base_acc_ds - 1)*100:.1f}% relative)\")\n",
        "print(\"=\"*60 + \"\\n\")\n",
        "\n",
        "# Accuracy comparison\n",
        "plt.figure(figsize=(10, 6))\n",
        "bars = plt.bar([\"Baseline φ-3\", \"Think-Advance\"], [base_acc_ds, think_acc_ds],\n",
        "                color=['#1f77b4', '#ff7f0e'])\n",
        "plt.title(\"GSM-8K Accuracy Comparison (500 questions, DeepSeek-Reasoner adjudicated)\", fontsize=14)\n",
        "plt.ylabel(\"Accuracy\", fontsize=12)\n",
        "plt.ylim(0, max(base_acc_ds, think_acc_ds) * 1.2)\n",
        "\n",
        "# Add value labels on bars\n",
        "for bar in bars:\n",
        "    height = bar.get_height()\n",
        "    plt.text(bar.get_x() + bar.get_width()/2., height,\n",
        "             f'{height:.1%}', ha='center', va='bottom', fontsize=12)\n",
        "plt.show()\n",
        "\n",
        "# Thinking steps distribution (unchanged from Phase 1)\n",
        "plt.figure(figsize=(10, 6))\n",
        "plt.hist(df_final[\"steps\"], bins=range(1, 201), alpha=0.7, edgecolor='black')\n",
        "plt.title(\"Distribution of Thinking Steps\", fontsize=14)\n",
        "plt.xlabel(\"Number of Thinking Steps\", fontsize=12)\n",
        "plt.ylabel(\"Count\", fontsize=12)\n",
        "plt.axvline(df_final[\"steps\"].mean(), color='red', linestyle='dashed', linewidth=2,\n",
        "            label=f'Mean: {df_final[\"steps\"].mean():.1f}')\n",
        "plt.legend()\n",
        "plt.show()\n",
        "\n",
        "# Show some examples where thinking helped\n",
        "think_better = df_final[(df_final[\"correct_think_ds\"] == True) & (df_final[\"correct_baseline_ds\"] == False)]\n",
        "baseline_better = df_final[(df_final[\"correct_baseline_ds\"] == True) & (df_final[\"correct_think_ds\"] == False)]\n",
        "\n",
        "print(f\"\\nDetailed Analysis:\")\n",
        "print(f\"Cases where thinking model got it right but baseline didn't: {len(think_better)}\")\n",
        "print(f\"Cases where baseline got it right but thinking didn't: {len(baseline_better)}\")\n",
        "print(f\"Cases where both got it right: {((df_final['correct_baseline_ds'] == True) & (df_final['correct_think_ds'] == True)).sum()}\")\n",
        "print(f\"Cases where both got it wrong: {((df_final['correct_baseline_ds'] == False) & (df_final['correct_think_ds'] == False)).sum()}\")\n",
        "\n",
        "if len(think_better) > 0:\n",
        "    print(f\"\\nExample where thinking helped:\")\n",
        "    ex = think_better.iloc[0]\n",
        "    print(f\"Question: {ex['question'][:100]}...\")\n",
        "    print(f\"Gold: {ex['gold']}\")\n",
        "    print(f\"Baseline answer (DeepSeek): {ex['baseline_int_ds']}\")\n",
        "    print(f\"Think answer (DeepSeek): {ex['think_int_ds']}\")\n",
        "    print(f\"Think steps: {ex['steps']}\")\n",
        "\n",
        "print(f\"\\nFinal results saved to: /content/drive/MyDrive/gsm8k_think_metrics_deepseek.csv\")\n"
      ]
    },
    {
      "cell_type": "code",
      "execution_count": null,
      "metadata": {
        "id": "-IgpJrpg-SVw"
      },
      "outputs": [],
      "source": []
    }
  ],
  "metadata": {
    "accelerator": "GPU",
    "colab": {
      "gpuType": "L4",
      "machine_shape": "hm",
      "provenance": [],
      "include_colab_link": true
    },
    "kernelspec": {
      "display_name": "Python 3",
      "name": "python3"
    },
    "language_info": {
      "name": "python"
    },
    "widgets": {
      "application/vnd.jupyter.widget-state+json": {
        "0281bcbd48db41389320ad61e3a35638": {
          "model_module": "@jupyter-widgets/controls",
          "model_module_version": "1.5.0",
          "model_name": "DescriptionStyleModel",
          "state": {
            "_model_module": "@jupyter-widgets/controls",
            "_model_module_version": "1.5.0",
            "_model_name": "DescriptionStyleModel",
            "_view_count": null,
            "_view_module": "@jupyter-widgets/base",
            "_view_module_version": "1.2.0",
            "_view_name": "StyleView",
            "description_width": ""
          }
        },
        "065d9ab425b74f1f81172b04d9a00222": {
          "model_module": "@jupyter-widgets/controls",
          "model_module_version": "1.5.0",
          "model_name": "HTMLModel",
          "state": {
            "_dom_classes": [],
            "_model_module": "@jupyter-widgets/controls",
            "_model_module_version": "1.5.0",
            "_model_name": "HTMLModel",
            "_view_count": null,
            "_view_module": "@jupyter-widgets/controls",
            "_view_module_version": "1.5.0",
            "_view_name": "HTMLView",
            "description": "",
            "description_tooltip": null,
            "layout": "IPY_MODEL_8dfa9e9f3f3342a7a8483405191edb9c",
            "placeholder": "​",
            "style": "IPY_MODEL_4b20733318374082b4c2f719ab8887f5",
            "value": " 2/2 [00:06&lt;00:00,  2.90s/it]"
          }
        },
        "177d2a74408b439e87189275be492b89": {
          "model_module": "@jupyter-widgets/controls",
          "model_module_version": "1.5.0",
          "model_name": "ProgressStyleModel",
          "state": {
            "_model_module": "@jupyter-widgets/controls",
            "_model_module_version": "1.5.0",
            "_model_name": "ProgressStyleModel",
            "_view_count": null,
            "_view_module": "@jupyter-widgets/base",
            "_view_module_version": "1.2.0",
            "_view_name": "StyleView",
            "bar_color": null,
            "description_width": ""
          }
        },
        "2f9bdcda46744624b9ee959622480bef": {
          "model_module": "@jupyter-widgets/controls",
          "model_module_version": "1.5.0",
          "model_name": "DescriptionStyleModel",
          "state": {
            "_model_module": "@jupyter-widgets/controls",
            "_model_module_version": "1.5.0",
            "_model_name": "DescriptionStyleModel",
            "_view_count": null,
            "_view_module": "@jupyter-widgets/base",
            "_view_module_version": "1.2.0",
            "_view_name": "StyleView",
            "description_width": ""
          }
        },
        "3728fa2f53b54cefb89ec90cf17e9e42": {
          "model_module": "@jupyter-widgets/base",
          "model_module_version": "1.2.0",
          "model_name": "LayoutModel",
          "state": {
            "_model_module": "@jupyter-widgets/base",
            "_model_module_version": "1.2.0",
            "_model_name": "LayoutModel",
            "_view_count": null,
            "_view_module": "@jupyter-widgets/base",
            "_view_module_version": "1.2.0",
            "_view_name": "LayoutView",
            "align_content": null,
            "align_items": null,
            "align_self": null,
            "border": null,
            "bottom": null,
            "display": null,
            "flex": null,
            "flex_flow": null,
            "grid_area": null,
            "grid_auto_columns": null,
            "grid_auto_flow": null,
            "grid_auto_rows": null,
            "grid_column": null,
            "grid_gap": null,
            "grid_row": null,
            "grid_template_areas": null,
            "grid_template_columns": null,
            "grid_template_rows": null,
            "height": null,
            "justify_content": null,
            "justify_items": null,
            "left": null,
            "margin": null,
            "max_height": null,
            "max_width": null,
            "min_height": null,
            "min_width": null,
            "object_fit": null,
            "object_position": null,
            "order": null,
            "overflow": null,
            "overflow_x": null,
            "overflow_y": null,
            "padding": null,
            "right": null,
            "top": null,
            "visibility": null,
            "width": null
          }
        },
        "4b20733318374082b4c2f719ab8887f5": {
          "model_module": "@jupyter-widgets/controls",
          "model_module_version": "1.5.0",
          "model_name": "DescriptionStyleModel",
          "state": {
            "_model_module": "@jupyter-widgets/controls",
            "_model_module_version": "1.5.0",
            "_model_name": "DescriptionStyleModel",
            "_view_count": null,
            "_view_module": "@jupyter-widgets/base",
            "_view_module_version": "1.2.0",
            "_view_name": "StyleView",
            "description_width": ""
          }
        },
        "502cb2ebfa0e4346b9600b77c5ac15d3": {
          "model_module": "@jupyter-widgets/base",
          "model_module_version": "1.2.0",
          "model_name": "LayoutModel",
          "state": {
            "_model_module": "@jupyter-widgets/base",
            "_model_module_version": "1.2.0",
            "_model_name": "LayoutModel",
            "_view_count": null,
            "_view_module": "@jupyter-widgets/base",
            "_view_module_version": "1.2.0",
            "_view_name": "LayoutView",
            "align_content": null,
            "align_items": null,
            "align_self": null,
            "border": null,
            "bottom": null,
            "display": null,
            "flex": null,
            "flex_flow": null,
            "grid_area": null,
            "grid_auto_columns": null,
            "grid_auto_flow": null,
            "grid_auto_rows": null,
            "grid_column": null,
            "grid_gap": null,
            "grid_row": null,
            "grid_template_areas": null,
            "grid_template_columns": null,
            "grid_template_rows": null,
            "height": null,
            "justify_content": null,
            "justify_items": null,
            "left": null,
            "margin": null,
            "max_height": null,
            "max_width": null,
            "min_height": null,
            "min_width": null,
            "object_fit": null,
            "object_position": null,
            "order": null,
            "overflow": null,
            "overflow_x": null,
            "overflow_y": null,
            "padding": null,
            "right": null,
            "top": null,
            "visibility": null,
            "width": null
          }
        },
        "5257c3774ff74ef2b1cfe8b2b5ca7db9": {
          "model_module": "@jupyter-widgets/controls",
          "model_module_version": "1.5.0",
          "model_name": "HBoxModel",
          "state": {
            "_dom_classes": [],
            "_model_module": "@jupyter-widgets/controls",
            "_model_module_version": "1.5.0",
            "_model_name": "HBoxModel",
            "_view_count": null,
            "_view_module": "@jupyter-widgets/controls",
            "_view_module_version": "1.5.0",
            "_view_name": "HBoxView",
            "box_style": "",
            "children": [
              "IPY_MODEL_93a2f68635b94c30817b5952911c1d5a",
              "IPY_MODEL_85a07f5a623d4f778f70d55e13b1f169",
              "IPY_MODEL_065d9ab425b74f1f81172b04d9a00222"
            ],
            "layout": "IPY_MODEL_502cb2ebfa0e4346b9600b77c5ac15d3"
          }
        },
        "74249229106d4000b892248499778635": {
          "model_module": "@jupyter-widgets/controls",
          "model_module_version": "1.5.0",
          "model_name": "DescriptionStyleModel",
          "state": {
            "_model_module": "@jupyter-widgets/controls",
            "_model_module_version": "1.5.0",
            "_model_name": "DescriptionStyleModel",
            "_view_count": null,
            "_view_module": "@jupyter-widgets/base",
            "_view_module_version": "1.2.0",
            "_view_name": "StyleView",
            "description_width": ""
          }
        },
        "79618bcaf1e44155bafd7e1026a94ad6": {
          "model_module": "@jupyter-widgets/base",
          "model_module_version": "1.2.0",
          "model_name": "LayoutModel",
          "state": {
            "_model_module": "@jupyter-widgets/base",
            "_model_module_version": "1.2.0",
            "_model_name": "LayoutModel",
            "_view_count": null,
            "_view_module": "@jupyter-widgets/base",
            "_view_module_version": "1.2.0",
            "_view_name": "LayoutView",
            "align_content": null,
            "align_items": null,
            "align_self": null,
            "border": null,
            "bottom": null,
            "display": null,
            "flex": null,
            "flex_flow": null,
            "grid_area": null,
            "grid_auto_columns": null,
            "grid_auto_flow": null,
            "grid_auto_rows": null,
            "grid_column": null,
            "grid_gap": null,
            "grid_row": null,
            "grid_template_areas": null,
            "grid_template_columns": null,
            "grid_template_rows": null,
            "height": null,
            "justify_content": null,
            "justify_items": null,
            "left": null,
            "margin": null,
            "max_height": null,
            "max_width": null,
            "min_height": null,
            "min_width": null,
            "object_fit": null,
            "object_position": null,
            "order": null,
            "overflow": null,
            "overflow_x": null,
            "overflow_y": null,
            "padding": null,
            "right": null,
            "top": null,
            "visibility": null,
            "width": null
          }
        },
        "7e8eef8ec479465991d23d52a8d8e096": {
          "model_module": "@jupyter-widgets/controls",
          "model_module_version": "1.5.0",
          "model_name": "HTMLModel",
          "state": {
            "_dom_classes": [],
            "_model_module": "@jupyter-widgets/controls",
            "_model_module_version": "1.5.0",
            "_model_name": "HTMLModel",
            "_view_count": null,
            "_view_module": "@jupyter-widgets/controls",
            "_view_module_version": "1.5.0",
            "_view_name": "HTMLView",
            "description": "",
            "description_tooltip": null,
            "layout": "IPY_MODEL_a74410ef8b5646f9a78d2fec5aebd67a",
            "placeholder": "​",
            "style": "IPY_MODEL_74249229106d4000b892248499778635",
            "value": "Loading checkpoint shards: 100%"
          }
        },
        "85a07f5a623d4f778f70d55e13b1f169": {
          "model_module": "@jupyter-widgets/controls",
          "model_module_version": "1.5.0",
          "model_name": "FloatProgressModel",
          "state": {
            "_dom_classes": [],
            "_model_module": "@jupyter-widgets/controls",
            "_model_module_version": "1.5.0",
            "_model_name": "FloatProgressModel",
            "_view_count": null,
            "_view_module": "@jupyter-widgets/controls",
            "_view_module_version": "1.5.0",
            "_view_name": "ProgressView",
            "bar_style": "success",
            "description": "",
            "description_tooltip": null,
            "layout": "IPY_MODEL_f8ac3badae8a4795a617f56d4b99ce58",
            "max": 2,
            "min": 0,
            "orientation": "horizontal",
            "style": "IPY_MODEL_d695db113fc146b6b35ce99ccc05624a",
            "value": 2
          }
        },
        "8dfa9e9f3f3342a7a8483405191edb9c": {
          "model_module": "@jupyter-widgets/base",
          "model_module_version": "1.2.0",
          "model_name": "LayoutModel",
          "state": {
            "_model_module": "@jupyter-widgets/base",
            "_model_module_version": "1.2.0",
            "_model_name": "LayoutModel",
            "_view_count": null,
            "_view_module": "@jupyter-widgets/base",
            "_view_module_version": "1.2.0",
            "_view_name": "LayoutView",
            "align_content": null,
            "align_items": null,
            "align_self": null,
            "border": null,
            "bottom": null,
            "display": null,
            "flex": null,
            "flex_flow": null,
            "grid_area": null,
            "grid_auto_columns": null,
            "grid_auto_flow": null,
            "grid_auto_rows": null,
            "grid_column": null,
            "grid_gap": null,
            "grid_row": null,
            "grid_template_areas": null,
            "grid_template_columns": null,
            "grid_template_rows": null,
            "height": null,
            "justify_content": null,
            "justify_items": null,
            "left": null,
            "margin": null,
            "max_height": null,
            "max_width": null,
            "min_height": null,
            "min_width": null,
            "object_fit": null,
            "object_position": null,
            "order": null,
            "overflow": null,
            "overflow_x": null,
            "overflow_y": null,
            "padding": null,
            "right": null,
            "top": null,
            "visibility": null,
            "width": null
          }
        },
        "93a2f68635b94c30817b5952911c1d5a": {
          "model_module": "@jupyter-widgets/controls",
          "model_module_version": "1.5.0",
          "model_name": "HTMLModel",
          "state": {
            "_dom_classes": [],
            "_model_module": "@jupyter-widgets/controls",
            "_model_module_version": "1.5.0",
            "_model_name": "HTMLModel",
            "_view_count": null,
            "_view_module": "@jupyter-widgets/controls",
            "_view_module_version": "1.5.0",
            "_view_name": "HTMLView",
            "description": "",
            "description_tooltip": null,
            "layout": "IPY_MODEL_79618bcaf1e44155bafd7e1026a94ad6",
            "placeholder": "​",
            "style": "IPY_MODEL_2f9bdcda46744624b9ee959622480bef",
            "value": "Loading checkpoint shards: 100%"
          }
        },
        "9e57e969811e4657a0345f9e88011d6b": {
          "model_module": "@jupyter-widgets/controls",
          "model_module_version": "1.5.0",
          "model_name": "FloatProgressModel",
          "state": {
            "_dom_classes": [],
            "_model_module": "@jupyter-widgets/controls",
            "_model_module_version": "1.5.0",
            "_model_name": "FloatProgressModel",
            "_view_count": null,
            "_view_module": "@jupyter-widgets/controls",
            "_view_module_version": "1.5.0",
            "_view_name": "ProgressView",
            "bar_style": "success",
            "description": "",
            "description_tooltip": null,
            "layout": "IPY_MODEL_ff6f559346704e81bacb163aedbae15e",
            "max": 2,
            "min": 0,
            "orientation": "horizontal",
            "style": "IPY_MODEL_177d2a74408b439e87189275be492b89",
            "value": 2
          }
        },
        "a74410ef8b5646f9a78d2fec5aebd67a": {
          "model_module": "@jupyter-widgets/base",
          "model_module_version": "1.2.0",
          "model_name": "LayoutModel",
          "state": {
            "_model_module": "@jupyter-widgets/base",
            "_model_module_version": "1.2.0",
            "_model_name": "LayoutModel",
            "_view_count": null,
            "_view_module": "@jupyter-widgets/base",
            "_view_module_version": "1.2.0",
            "_view_name": "LayoutView",
            "align_content": null,
            "align_items": null,
            "align_self": null,
            "border": null,
            "bottom": null,
            "display": null,
            "flex": null,
            "flex_flow": null,
            "grid_area": null,
            "grid_auto_columns": null,
            "grid_auto_flow": null,
            "grid_auto_rows": null,
            "grid_column": null,
            "grid_gap": null,
            "grid_row": null,
            "grid_template_areas": null,
            "grid_template_columns": null,
            "grid_template_rows": null,
            "height": null,
            "justify_content": null,
            "justify_items": null,
            "left": null,
            "margin": null,
            "max_height": null,
            "max_width": null,
            "min_height": null,
            "min_width": null,
            "object_fit": null,
            "object_position": null,
            "order": null,
            "overflow": null,
            "overflow_x": null,
            "overflow_y": null,
            "padding": null,
            "right": null,
            "top": null,
            "visibility": null,
            "width": null
          }
        },
        "c037d4869a2d4d61bfe10c1e1287290f": {
          "model_module": "@jupyter-widgets/controls",
          "model_module_version": "1.5.0",
          "model_name": "HTMLModel",
          "state": {
            "_dom_classes": [],
            "_model_module": "@jupyter-widgets/controls",
            "_model_module_version": "1.5.0",
            "_model_name": "HTMLModel",
            "_view_count": null,
            "_view_module": "@jupyter-widgets/controls",
            "_view_module_version": "1.5.0",
            "_view_name": "HTMLView",
            "description": "",
            "description_tooltip": null,
            "layout": "IPY_MODEL_3728fa2f53b54cefb89ec90cf17e9e42",
            "placeholder": "​",
            "style": "IPY_MODEL_0281bcbd48db41389320ad61e3a35638",
            "value": " 2/2 [00:12&lt;00:00,  5.62s/it]"
          }
        },
        "c6256089aaad471290c1822f963a1d19": {
          "model_module": "@jupyter-widgets/base",
          "model_module_version": "1.2.0",
          "model_name": "LayoutModel",
          "state": {
            "_model_module": "@jupyter-widgets/base",
            "_model_module_version": "1.2.0",
            "_model_name": "LayoutModel",
            "_view_count": null,
            "_view_module": "@jupyter-widgets/base",
            "_view_module_version": "1.2.0",
            "_view_name": "LayoutView",
            "align_content": null,
            "align_items": null,
            "align_self": null,
            "border": null,
            "bottom": null,
            "display": null,
            "flex": null,
            "flex_flow": null,
            "grid_area": null,
            "grid_auto_columns": null,
            "grid_auto_flow": null,
            "grid_auto_rows": null,
            "grid_column": null,
            "grid_gap": null,
            "grid_row": null,
            "grid_template_areas": null,
            "grid_template_columns": null,
            "grid_template_rows": null,
            "height": null,
            "justify_content": null,
            "justify_items": null,
            "left": null,
            "margin": null,
            "max_height": null,
            "max_width": null,
            "min_height": null,
            "min_width": null,
            "object_fit": null,
            "object_position": null,
            "order": null,
            "overflow": null,
            "overflow_x": null,
            "overflow_y": null,
            "padding": null,
            "right": null,
            "top": null,
            "visibility": null,
            "width": null
          }
        },
        "d695db113fc146b6b35ce99ccc05624a": {
          "model_module": "@jupyter-widgets/controls",
          "model_module_version": "1.5.0",
          "model_name": "ProgressStyleModel",
          "state": {
            "_model_module": "@jupyter-widgets/controls",
            "_model_module_version": "1.5.0",
            "_model_name": "ProgressStyleModel",
            "_view_count": null,
            "_view_module": "@jupyter-widgets/base",
            "_view_module_version": "1.2.0",
            "_view_name": "StyleView",
            "bar_color": null,
            "description_width": ""
          }
        },
        "ef76fa45ffc14e4faa3b0f859c411c70": {
          "model_module": "@jupyter-widgets/controls",
          "model_module_version": "1.5.0",
          "model_name": "HBoxModel",
          "state": {
            "_dom_classes": [],
            "_model_module": "@jupyter-widgets/controls",
            "_model_module_version": "1.5.0",
            "_model_name": "HBoxModel",
            "_view_count": null,
            "_view_module": "@jupyter-widgets/controls",
            "_view_module_version": "1.5.0",
            "_view_name": "HBoxView",
            "box_style": "",
            "children": [
              "IPY_MODEL_7e8eef8ec479465991d23d52a8d8e096",
              "IPY_MODEL_9e57e969811e4657a0345f9e88011d6b",
              "IPY_MODEL_c037d4869a2d4d61bfe10c1e1287290f"
            ],
            "layout": "IPY_MODEL_c6256089aaad471290c1822f963a1d19"
          }
        },
        "f8ac3badae8a4795a617f56d4b99ce58": {
          "model_module": "@jupyter-widgets/base",
          "model_module_version": "1.2.0",
          "model_name": "LayoutModel",
          "state": {
            "_model_module": "@jupyter-widgets/base",
            "_model_module_version": "1.2.0",
            "_model_name": "LayoutModel",
            "_view_count": null,
            "_view_module": "@jupyter-widgets/base",
            "_view_module_version": "1.2.0",
            "_view_name": "LayoutView",
            "align_content": null,
            "align_items": null,
            "align_self": null,
            "border": null,
            "bottom": null,
            "display": null,
            "flex": null,
            "flex_flow": null,
            "grid_area": null,
            "grid_auto_columns": null,
            "grid_auto_flow": null,
            "grid_auto_rows": null,
            "grid_column": null,
            "grid_gap": null,
            "grid_row": null,
            "grid_template_areas": null,
            "grid_template_columns": null,
            "grid_template_rows": null,
            "height": null,
            "justify_content": null,
            "justify_items": null,
            "left": null,
            "margin": null,
            "max_height": null,
            "max_width": null,
            "min_height": null,
            "min_width": null,
            "object_fit": null,
            "object_position": null,
            "order": null,
            "overflow": null,
            "overflow_x": null,
            "overflow_y": null,
            "padding": null,
            "right": null,
            "top": null,
            "visibility": null,
            "width": null
          }
        },
        "ff6f559346704e81bacb163aedbae15e": {
          "model_module": "@jupyter-widgets/base",
          "model_module_version": "1.2.0",
          "model_name": "LayoutModel",
          "state": {
            "_model_module": "@jupyter-widgets/base",
            "_model_module_version": "1.2.0",
            "_model_name": "LayoutModel",
            "_view_count": null,
            "_view_module": "@jupyter-widgets/base",
            "_view_module_version": "1.2.0",
            "_view_name": "LayoutView",
            "align_content": null,
            "align_items": null,
            "align_self": null,
            "border": null,
            "bottom": null,
            "display": null,
            "flex": null,
            "flex_flow": null,
            "grid_area": null,
            "grid_auto_columns": null,
            "grid_auto_flow": null,
            "grid_auto_rows": null,
            "grid_column": null,
            "grid_gap": null,
            "grid_row": null,
            "grid_template_areas": null,
            "grid_template_columns": null,
            "grid_template_rows": null,
            "height": null,
            "justify_content": null,
            "justify_items": null,
            "left": null,
            "margin": null,
            "max_height": null,
            "max_width": null,
            "min_height": null,
            "min_width": null,
            "object_fit": null,
            "object_position": null,
            "order": null,
            "overflow": null,
            "overflow_x": null,
            "overflow_y": null,
            "padding": null,
            "right": null,
            "top": null,
            "visibility": null,
            "width": null
          }
        }
      }
    }
  },
  "nbformat": 4,
  "nbformat_minor": 0
}